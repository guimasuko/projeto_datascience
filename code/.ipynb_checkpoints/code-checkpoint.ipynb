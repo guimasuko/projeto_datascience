{
 "cells": [
  {
   "cell_type": "code",
   "execution_count": 1,
   "metadata": {},
   "outputs": [],
   "source": [
    "import pandas as pd\n",
    "import numpy as np\n",
    "import requests\n",
    "from bs4 import BeautifulSoup\n",
    "import scipy.stats as stats"
   ]
  },
  {
   "cell_type": "markdown",
   "metadata": {},
   "source": [
    "## Dados"
   ]
  },
  {
   "cell_type": "markdown",
   "metadata": {},
   "source": [
    "### Cidades\n",
    "Dados das cidades encontrados em: https://en.wikipedia.org/wiki/List_of_American_and_Canadian_cities_by_number_of_major_professional_sports_franchises"
   ]
  },
  {
   "cell_type": "code",
   "execution_count": 2,
   "metadata": {},
   "outputs": [
    {
     "name": "stdout",
     "output_type": "stream",
     "text": [
      "200\n"
     ]
    }
   ],
   "source": [
    "# pegando url da página onde se encontra a tabela de interesse\n",
    "url = \"https://en.wikipedia.org/wiki/List_of_American_and_Canadian_cities_by_number_of_major_professional_sports_franchises\"\n",
    "response = requests.get(url)\n",
    "print(response.status_code)"
   ]
  },
  {
   "cell_type": "code",
   "execution_count": 3,
   "metadata": {},
   "outputs": [],
   "source": [
    "# Transforma a página em texto html\n",
    "soup = BeautifulSoup(response.text, 'html.parser')"
   ]
  },
  {
   "cell_type": "markdown",
   "metadata": {},
   "source": [
    "# para encontrar a tabela, utilize o inspect na página\n",
    "![](../input/table_class.jpg)"
   ]
  },
  {
   "cell_type": "code",
   "execution_count": 36,
   "metadata": {},
   "outputs": [],
   "source": [
    "# Encontra e traz apenas o texto html referente a tabela de interesse\n",
    "table_data = soup.find('table', {'class': \"wikitable\"})"
   ]
  },
  {
   "cell_type": "code",
   "execution_count": 40,
   "metadata": {},
   "outputs": [],
   "source": [
    "# criando uma lista com a tabela\n",
    "lista=pd.read_html(str(table_data))"
   ]
  },
  {
   "cell_type": "code",
   "execution_count": 42,
   "metadata": {},
   "outputs": [],
   "source": [
    "# convertendo a lista para dataframe\n",
    "cities=pd.DataFrame(lista[0])"
   ]
  },
  {
   "cell_type": "code",
   "execution_count": 117,
   "metadata": {},
   "outputs": [],
   "source": [
    "# limpeza de dados cities (retirando a última linha e mantendo apenas as colunas importantes)\n",
    "cities=cities.iloc[:-1,[0,3,5,6,7,8]]"
   ]
  },
  {
   "cell_type": "code",
   "execution_count": 123,
   "metadata": {},
   "outputs": [],
   "source": [
    "# renomeando coluna\n",
    "cities.rename(columns={'Population (2016 est.)[8]': 'Population_2016'}, inplace=True)"
   ]
  },
  {
   "cell_type": "code",
   "execution_count": 126,
   "metadata": {},
   "outputs": [],
   "source": [
    "# transformando coluna de população em númerica\n",
    "cities['Population_2016'] = pd.to_numeric(cities['Population_2016'])"
   ]
  },
  {
   "cell_type": "code",
   "execution_count": 127,
   "metadata": {},
   "outputs": [],
   "source": [
    "# baixando dados em csv\n",
    "cities.to_csv(\"../input/cities.csv\")"
   ]
  },
  {
   "cell_type": "code",
   "execution_count": 128,
   "metadata": {},
   "outputs": [],
   "source": [
    "# mantendo apenas as colunas necessárias\n",
    "cities = cities[['Metropolitan area', 'Population_2016']]"
   ]
  },
  {
   "cell_type": "markdown",
   "metadata": {},
   "source": [
    "### NHL\n",
    "Dados da NHL encontrados em: https://www.hockey-reference.com/leagues/NHL_2019.html"
   ]
  },
  {
   "cell_type": "code",
   "execution_count": 137,
   "metadata": {},
   "outputs": [],
   "source": [
    "# lendo url\n",
    "url = \"https://www.hockey-reference.com/leagues/NHL_2019.html\"\n",
    "nhl = pd.read_html(url, header=0)"
   ]
  },
  {
   "cell_type": "code",
   "execution_count": 138,
   "metadata": {},
   "outputs": [],
   "source": [
    "# criando dataframes\n",
    "nhl_0 = nhl[0]\n",
    "nhl_1 = nhl[1]"
   ]
  },
  {
   "cell_type": "code",
   "execution_count": null,
   "metadata": {},
   "outputs": [],
   "source": [
    "# juntando os dataframes\n",
    "frames = [nhl_0, nhl_1]\n",
    "nhl_df = pd.concat(frames)"
   ]
  },
  {
   "cell_type": "code",
   "execution_count": 139,
   "metadata": {},
   "outputs": [],
   "source": [
    "# renomeando coluna\n",
    "nhl_df.rename(columns={'Unnamed: 0': 'Teams'}, inplace=True)"
   ]
  },
  {
   "cell_type": "code",
   "execution_count": 140,
   "metadata": {},
   "outputs": [],
   "source": [
    "# função que retira o * do final de alguns nomes de times\n",
    "nhl_df['Teams'] = nhl_df['Teams'].map(lambda x: x.rstrip('*'))"
   ]
  },
  {
   "cell_type": "code",
   "execution_count": 141,
   "metadata": {},
   "outputs": [],
   "source": [
    "# dicionário relacionando nome do time ao nome da região\n",
    "dict_city = {\n",
    "    'Tampa Bay Lightning': 'Tampa Bay Area',\n",
    "    'Boston Bruins': 'Boston',\n",
    "    'Toronto Maple Leafs': 'Toronto',\n",
    "    'Florida Panthers': 'Miami–Fort Lauderdale',\n",
    "    'Detroit Red Wings': 'Detroit',\n",
    "    'Montreal Canadiens': 'Montreal',\n",
    "    'Ottawa Senators': 'Ottawa',\n",
    "    'Buffalo Sabres': 'Buffalo',\n",
    "    'Washington Capitals': 'Washington, D.C.',\n",
    "    'Pittsburgh Penguins': 'Pittsburgh',\n",
    "    'Philadelphia Flyers': 'Philadelphia',\n",
    "    'Columbus Blue Jackets': 'Columbus',\n",
    "    'New Jersey Devils': 'New York City',\n",
    "    'Carolina Hurricanes': 'Raleigh',\n",
    "    'New York Islanders': 'New York City',\n",
    "    'New York Rangers': 'New York City',\n",
    "    'Nashville Predators': 'Nashville',\n",
    "    'Winnipeg Jets': 'Winnipeg',\n",
    "    'Minnesota Wild': 'Minneapolis–Saint Paul',\n",
    "    'Colorado Avalanche': 'Denver',\n",
    "    'St. Louis Blues': 'St. Louis',\n",
    "    'Dallas Stars': 'Dallas–Fort Worth',\n",
    "    'Chicago Blackhawks': 'Chicago',\n",
    "    'Vegas Golden Knights': 'Las Vegas',\n",
    "    'Anaheim Ducks': 'Los Angeles',\n",
    "    'San Jose Sharks': 'San Francisco Bay Area',\n",
    "    'Los Angeles Kings': 'Los Angeles',\n",
    "    'Calgary Flames': 'Calgary',\n",
    "    'Edmonton Oilers': 'Edmonton',\n",
    "    'Vancouver Canucks': 'Vancouver',\n",
    "    'Arizona Coyotes': 'Phoenix'\n",
    "}"
   ]
  },
  {
   "cell_type": "code",
   "execution_count": 142,
   "metadata": {},
   "outputs": [],
   "source": [
    "# função que adiciona o dicionário como coluna no dataframe\n",
    "nhl_df['Metropolitan area'] = nhl_df['Teams'].map(dict_city)"
   ]
  },
  {
   "cell_type": "code",
   "execution_count": 143,
   "metadata": {},
   "outputs": [],
   "source": [
    "# resetando o index\n",
    "nhl_df = nhl_df.reset_index(drop=True)"
   ]
  },
  {
   "cell_type": "code",
   "execution_count": 144,
   "metadata": {},
   "outputs": [],
   "source": [
    "# retirando linhas e resetando o índice\n",
    "nhl_df = nhl_df.drop([0, 9, 18, 26]).reset_index(drop=True)"
   ]
  },
  {
   "cell_type": "code",
   "execution_count": 145,
   "metadata": {},
   "outputs": [],
   "source": [
    "# tornando colunas numéricas para fazer cálculo da razão\n",
    "nhl_df['W'] = pd.to_numeric(nhl_df['W'])\n",
    "nhl_df['L'] = pd.to_numeric(nhl_df['L'])"
   ]
  },
  {
   "cell_type": "code",
   "execution_count": 146,
   "metadata": {},
   "outputs": [],
   "source": [
    "# relação vitórias/(vitórias + derrotas)\n",
    "nhl_df['ratio'] = nhl_df['W']/(nhl_df['W'] + nhl_df['L'])"
   ]
  },
  {
   "cell_type": "code",
   "execution_count": 147,
   "metadata": {},
   "outputs": [],
   "source": [
    "# baixando dados em csv\n",
    "nhl_df.to_csv(\"../input/nhl.csv\")"
   ]
  },
  {
   "cell_type": "code",
   "execution_count": 148,
   "metadata": {},
   "outputs": [],
   "source": [
    "# mantendo apenas as colunas necessárias\n",
    "nhl_df = nhl_df[['Teams', 'Metropolitan area', 'ratio']]"
   ]
  },
  {
   "cell_type": "markdown",
   "metadata": {},
   "source": [
    "### NBA\n",
    "Dados da NBA encontrados em: https://www.basketball-reference.com/leagues/NBA_2019.html"
   ]
  },
  {
   "cell_type": "code",
   "execution_count": 152,
   "metadata": {},
   "outputs": [],
   "source": [
    "# lendo url\n",
    "url = \"https://www.basketball-reference.com/leagues/NBA_2019.html\"\n",
    "nba = pd.read_html(url, header=0)"
   ]
  },
  {
   "cell_type": "code",
   "execution_count": 155,
   "metadata": {},
   "outputs": [],
   "source": [
    "# criando os dataframes\n",
    "nba_0 = nba[0]\n",
    "nba_1 = nba[1]"
   ]
  },
  {
   "cell_type": "code",
   "execution_count": 158,
   "metadata": {},
   "outputs": [],
   "source": [
    "# renomeando os dataframes\n",
    "nba_0.rename(columns={'Eastern Conference': 'Teams'}, inplace=True)\n",
    "nba_1.rename(columns={'Western Conference': 'Teams'}, inplace=True)"
   ]
  },
  {
   "cell_type": "code",
   "execution_count": 159,
   "metadata": {},
   "outputs": [],
   "source": [
    "# juntando os dataframes\n",
    "frames = [nba_0, nba_1]\n",
    "nba_df = pd.concat(frames)"
   ]
  },
  {
   "cell_type": "code",
   "execution_count": 161,
   "metadata": {},
   "outputs": [],
   "source": [
    "# função que retira o '*' da coluna Teams\n",
    "nba_df['Teams'] = nba_df['Teams'].map(lambda x: x.rstrip('*\\xa0'))"
   ]
  },
  {
   "cell_type": "code",
   "execution_count": 171,
   "metadata": {},
   "outputs": [],
   "source": [
    "# resetando o index\n",
    "nba_df = nba_df.reset_index(drop=True)"
   ]
  },
  {
   "cell_type": "code",
   "execution_count": 163,
   "metadata": {},
   "outputs": [],
   "source": [
    "# dicionário relacionando nome do time ao nome da região\n",
    "dict_city = {\n",
    "    'Toronto Raptors': 'Toronto',\n",
    "    'Boston Celtics': 'Boston',\n",
    "    'Philadelphia 76ers': 'Philadelphia',\n",
    "    'Cleveland Cavaliers': 'Cleveland',\n",
    "    'Indiana Pacers': 'Indianapolis',\n",
    "    'Miami Heat': 'Miami–Fort Lauderdale',\n",
    "    'Milwaukee Bucks': 'Milwaukee',\n",
    "    'Washington Wizards': 'Washington, D.C.',\n",
    "    'Detroit Pistons': 'Detroit',\n",
    "    'Charlotte Hornets': 'Charlotte',\n",
    "    'New York Knicks': 'New York City',\n",
    "    'Brooklyn Nets': 'New York City',\n",
    "    'Chicago Bulls': 'Chicago',\n",
    "    'Orlando Magic': 'Orlando',\n",
    "    'Atlanta Hawks': 'Atlanta',\n",
    "    'Houston Rockets': 'Houston',\n",
    "    'Golden State Warriors': 'San Francisco Bay Area',\n",
    "    'Portland Trail Blazers': 'Portland',\n",
    "    'Oklahoma City Thunder': 'Oklahoma City',\n",
    "    'Utah Jazz': 'Salt Lake City',\n",
    "    'New Orleans Pelicans': 'New Orleans',\n",
    "    'San Antonio Spurs': 'San Antonio',\n",
    "    'Minnesota Timberwolves': 'Minneapolis–Saint Paul',\n",
    "    'Denver Nuggets': 'Denver',\n",
    "    'Los Angeles Clippers': 'Los Angeles',\n",
    "    'Los Angeles Lakers': 'Los Angeles',\n",
    "    'Sacramento Kings': 'Sacramento',\n",
    "    'Dallas Mavericks': 'Dallas–Fort Worth',\n",
    "    'Memphis Grizzlies': 'Memphis',\n",
    "    'Phoenix Suns': 'Phoenix'\n",
    "}"
   ]
  },
  {
   "cell_type": "code",
   "execution_count": 165,
   "metadata": {},
   "outputs": [],
   "source": [
    "# função que adiciona o dicionário como coluna no dataframe\n",
    "nba_df['Metropolitan area'] = nba_df['Teams'].map(dict_city)"
   ]
  },
  {
   "cell_type": "code",
   "execution_count": 166,
   "metadata": {},
   "outputs": [],
   "source": [
    "# tornando colunas numéricas para fazer cálculo da razão\n",
    "nba_df['W'] = pd.to_numeric(nba_df['W'])\n",
    "nba_df['L'] = pd.to_numeric(nba_df['L'])"
   ]
  },
  {
   "cell_type": "code",
   "execution_count": 167,
   "metadata": {},
   "outputs": [],
   "source": [
    "# relação vitórias/(vitórias + derrotas)\n",
    "nba_df['ratio'] = nba_df['W']/(nba_df['W'] + nba_df['L'])"
   ]
  },
  {
   "cell_type": "code",
   "execution_count": 168,
   "metadata": {},
   "outputs": [],
   "source": [
    "# baixando dados em csv\n",
    "nba_df.to_csv(\"../input/nba.csv\")"
   ]
  },
  {
   "cell_type": "code",
   "execution_count": 169,
   "metadata": {},
   "outputs": [],
   "source": [
    "# mantendo apenas as colunas necessárias\n",
    "nba_df = nba_df[['Teams', 'Metropolitan area', 'ratio']]"
   ]
  },
  {
   "cell_type": "markdown",
   "metadata": {},
   "source": [
    "### MLB\n",
    "Dados da MLB encontrados em: https://www.baseball-reference.com/leagues/majors/2018.shtml"
   ]
  },
  {
   "cell_type": "code",
   "execution_count": 194,
   "metadata": {},
   "outputs": [],
   "source": [
    "# lendo url\n",
    "url = \"https://www.baseball-reference.com/leagues/majors/2018-standings.shtml\"\n",
    "mlb = pd.read_html(url, header=0)\n"
   ]
  },
  {
   "cell_type": "code",
   "execution_count": 205,
   "metadata": {},
   "outputs": [],
   "source": [
    "# criando os dataframes\n",
    "mlb_0 = mlb[0]\n",
    "mlb_1 = mlb[1]\n",
    "mlb_2 = mlb[2]\n",
    "mlb_3 = mlb[3]\n",
    "mlb_4 = mlb[4]\n",
    "mlb_5 = mlb[5]"
   ]
  },
  {
   "cell_type": "code",
   "execution_count": 207,
   "metadata": {},
   "outputs": [],
   "source": [
    "# juntando os dataframes\n",
    "frames = [mlb_0, mlb_1, mlb_2, mlb_3, mlb_4, mlb_5]\n",
    "mlb_df = pd.concat(frames)"
   ]
  },
  {
   "cell_type": "code",
   "execution_count": 211,
   "metadata": {},
   "outputs": [],
   "source": [
    "# resetando o index\n",
    "mlb_df = mlb_df.reset_index(drop=True)"
   ]
  },
  {
   "cell_type": "code",
   "execution_count": 212,
   "metadata": {},
   "outputs": [],
   "source": [
    "# renomeando a coluna do time\n",
    "mlb_df.rename(columns={'Tm': 'Teams'}, inplace=True)"
   ]
  },
  {
   "cell_type": "code",
   "execution_count": 214,
   "metadata": {},
   "outputs": [],
   "source": [
    "# dicionário relacionando nome do time ao nome da região\n",
    "dict_city = {\n",
    "    'Boston Red Sox': 'Boston',\n",
    "    'New York Yankees': 'New York City',\n",
    "    'Tampa Bay Rays': 'Tampa Bay Area',\n",
    "    'Toronto Blue Jays': 'Toronto',\n",
    "    'Baltimore Orioles': 'Baltimore',\n",
    "    'Cleveland Indians': 'Cleveland',\n",
    "    'Minnesota Twins': 'Minneapolis–Saint Paul',\n",
    "    'Detroit Tigers': 'Detroit',\n",
    "    'Chicago White Sox': 'Chicago',\n",
    "    'Kansas City Royals': 'Kansas City',\n",
    "    'Houston Astros': 'Houston',\n",
    "    'Oakland Athletics': 'San Francisco Bay Area',\n",
    "    'Seattle Mariners': 'Seattle',\n",
    "    'Los Angeles Angels': 'Los Angeles',\n",
    "    'Texas Rangers': 'Dallas–Fort Worth',\n",
    "    'Atlanta Braves': 'Atlanta',\n",
    "    'Washington Nationals': 'Washington, D.C.',\n",
    "    'Philadelphia Phillies': 'Philadelphia',\n",
    "    'New York Mets': 'New York City',\n",
    "    'Miami Marlins': 'Miami–Fort Lauderdale',\n",
    "    'Milwaukee Brewers': 'Milwaukee',\n",
    "    'Chicago Cubs': 'Chicago',\n",
    "    'St. Louis Cardinals': 'St. Louis',\n",
    "    'Pittsburgh Pirates': 'Pittsburgh',\n",
    "    'Cincinnati Reds': 'Cincinnati',\n",
    "    'Los Angeles Dodgers': 'Los Angeles',\n",
    "    'Colorado Rockies': 'Denver',\n",
    "    'Arizona Diamondbacks': 'Phoenix',\n",
    "    'San Francisco Giants': 'San Francisco Bay Area',\n",
    "    'San Diego Padres': 'San Diego'\n",
    "}"
   ]
  },
  {
   "cell_type": "code",
   "execution_count": 216,
   "metadata": {},
   "outputs": [],
   "source": [
    "# função que adiciona o dicionário como coluna no dataframe\n",
    "mlb_df['Metropolitan area'] = mlb_df['Teams'].map(dict_city)"
   ]
  },
  {
   "cell_type": "code",
   "execution_count": 217,
   "metadata": {},
   "outputs": [],
   "source": [
    "# tornando colunas numéricas para fazer cálculo da razão\n",
    "mlb_df['W'] = pd.to_numeric(mlb_df['W'])\n",
    "mlb_df['L'] = pd.to_numeric(mlb_df['L'])"
   ]
  },
  {
   "cell_type": "code",
   "execution_count": 218,
   "metadata": {},
   "outputs": [],
   "source": [
    "# relação vitórias/(vitórias + derrotas)\n",
    "mlb_df['ratio'] = mlb_df['W']/(mlb_df['W'] + mlb_df['L'])"
   ]
  },
  {
   "cell_type": "code",
   "execution_count": 219,
   "metadata": {},
   "outputs": [],
   "source": [
    "# baixando dados em csv\n",
    "mlb_df.to_csv(\"../input/mlb.csv\")"
   ]
  },
  {
   "cell_type": "code",
   "execution_count": 222,
   "metadata": {},
   "outputs": [],
   "source": [
    "# mantendo apenas as colunas necessárias\n",
    "mlb_df = mlb_df[['Teams', 'Metropolitan area', 'ratio']]"
   ]
  },
  {
   "cell_type": "markdown",
   "metadata": {},
   "source": [
    "### NFL\n",
    "Dados da NFL encontrados em: https://www.pro-football-reference.com/years/2018/"
   ]
  },
  {
   "cell_type": "code",
   "execution_count": 252,
   "metadata": {},
   "outputs": [],
   "source": [
    "# lendo url\n",
    "url = \"https://www.pro-football-reference.com/years/2018/\"\n",
    "nfl = pd.read_html(url, header=0)"
   ]
  },
  {
   "cell_type": "code",
   "execution_count": 253,
   "metadata": {},
   "outputs": [],
   "source": [
    "# criando os dataframes\n",
    "nfl_0 = nfl[0]\n",
    "nfl_1 = nfl[1]"
   ]
  },
  {
   "cell_type": "code",
   "execution_count": 254,
   "metadata": {},
   "outputs": [],
   "source": [
    "# juntando os dataframes\n",
    "frames = [nfl_0, nfl_1]\n",
    "nfl_df = pd.concat(frames)"
   ]
  },
  {
   "cell_type": "code",
   "execution_count": 255,
   "metadata": {},
   "outputs": [],
   "source": [
    "# resetando o index\n",
    "nfl_df = nfl_df.reset_index(drop=True)"
   ]
  },
  {
   "cell_type": "code",
   "execution_count": 256,
   "metadata": {},
   "outputs": [],
   "source": [
    "# renomeando a coluna do time\n",
    "nfl_df.rename(columns={'Tm': 'Teams'}, inplace=True)"
   ]
  },
  {
   "cell_type": "code",
   "execution_count": 257,
   "metadata": {},
   "outputs": [],
   "source": [
    "# função que retira o * e + do final de alguns nomes de times\n",
    "nfl_df['Teams'] = nfl_df['Teams'].map(lambda x: x.rstrip('*'))\n",
    "nfl_df['Teams'] = nfl_df['Teams'].map(lambda x: x.rstrip('+'))"
   ]
  },
  {
   "cell_type": "code",
   "execution_count": 259,
   "metadata": {},
   "outputs": [],
   "source": [
    "# retirando linhas e resetando o índice\n",
    "nfl_df = nfl_df.drop([0, 5, 10, 15, 20, 25, 30, 35]).reset_index(drop=True)"
   ]
  },
  {
   "cell_type": "code",
   "execution_count": 261,
   "metadata": {},
   "outputs": [],
   "source": [
    "# dicionário relacionando nome do time ao nome da região\n",
    "dict_city = {\n",
    "    'New England Patriots': 'Boston',\n",
    "    'Miami Dolphins': 'Miami–Fort Lauderdale',\n",
    "    'Buffalo Bills': 'Buffalo',\n",
    "    'New York Jets': 'New York City',\n",
    "    'Baltimore Ravens': 'Baltimore',\n",
    "    'Pittsburgh Steelers': 'Pittsburgh',\n",
    "    'Cleveland Browns': 'Cleveland',\n",
    "    'Cincinnati Bengals': 'Cincinnati',\n",
    "    'Houston Texans': 'Houston',\n",
    "    'Indianapolis Colts': 'Indianapolis',\n",
    "    'Tennessee Titans': 'Nashville',\n",
    "    'Jacksonville Jaguars': 'Jacksonville',\n",
    "    'Kansas City Chiefs': 'Kansas City',\n",
    "    'Los Angeles Chargers': 'Los Angeles',\n",
    "    'Denver Broncos': 'Denver',\n",
    "    'Oakland Raiders': 'San Francisco Bay Area',\n",
    "    'Dallas Cowboys': 'Dallas–Fort Worth',\n",
    "    'Philadelphia Eagles': 'Philadelphia',\n",
    "    'Washington Redskins': 'Washington, D.C.',\n",
    "    'New York Giants': 'New York City',\n",
    "    'Chicago Bears': 'Chicago',\n",
    "    'Minnesota Vikings': 'Minneapolis–Saint Paul',\n",
    "    'Green Bay Packers': 'Green Bay',\n",
    "    'Detroit Lions': 'Detroit',\n",
    "    'New Orleans Saints': 'New Orleans',\n",
    "    'Carolina Panthers': 'Charlotte',\n",
    "    'Atlanta Falcons': 'Atlanta',\n",
    "    'Tampa Bay Buccaneers': 'Tampa Bay Area',\n",
    "    'Los Angeles Rams': 'Los Angeles',\n",
    "    'Seattle Seahawks': 'Seattle',\n",
    "    'San Francisco 49ers': 'San Francisco Bay Area',\n",
    "    'Arizona Cardinals': 'Phoenix'\n",
    "}"
   ]
  },
  {
   "cell_type": "code",
   "execution_count": 262,
   "metadata": {},
   "outputs": [],
   "source": [
    "# função que adiciona o dicionário como coluna no dataframe\n",
    "nfl_df['Metropolitan area'] = nfl_df['Teams'].map(dict_city)"
   ]
  },
  {
   "cell_type": "code",
   "execution_count": 264,
   "metadata": {},
   "outputs": [],
   "source": [
    "# tornando colunas numéricas para fazer cálculo da razão\n",
    "nfl_df['W'] = pd.to_numeric(nfl_df['W'])\n",
    "nfl_df['L'] = pd.to_numeric(nfl_df['L'])"
   ]
  },
  {
   "cell_type": "code",
   "execution_count": 265,
   "metadata": {},
   "outputs": [],
   "source": [
    "# relação vitórias/(vitórias + derrotas)\n",
    "nfl_df['ratio'] = nfl_df['W']/(nfl_df['W'] + nfl_df['L'])"
   ]
  },
  {
   "cell_type": "code",
   "execution_count": 266,
   "metadata": {},
   "outputs": [],
   "source": [
    "# mantendo apenas as colunas necessárias\n",
    "nfl_df = nfl_df[['Teams', 'Metropolitan area', 'ratio']]"
   ]
  },
  {
   "cell_type": "markdown",
   "metadata": {},
   "source": [
    "## Questões"
   ]
  }
 ],
 "metadata": {
  "interpreter": {
   "hash": "33541a670e8887513ebdf0f19cec6625b51694c5ef6b1c7e83282c54d5cd54e5"
  },
  "kernelspec": {
   "display_name": "Python 3 (ipykernel)",
   "language": "python",
   "name": "python3"
  },
  "language_info": {
   "codemirror_mode": {
    "name": "ipython",
    "version": 3
   },
   "file_extension": ".py",
   "mimetype": "text/x-python",
   "name": "python",
   "nbconvert_exporter": "python",
   "pygments_lexer": "ipython3",
   "version": "3.9.7"
  }
 },
 "nbformat": 4,
 "nbformat_minor": 2
}
