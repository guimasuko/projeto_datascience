{
 "cells": [
  {
   "cell_type": "markdown",
   "metadata": {},
   "source": [
    "## Pacotes\n"
   ]
  },
  {
   "cell_type": "code",
   "execution_count": 2,
   "metadata": {},
   "outputs": [],
   "source": [
    "import pandas as pd\n",
    "import numpy as np\n",
    "import matplotlib.pyplot as plt\n",
    "import requests\n",
    "from bs4 import BeautifulSoup\n",
    "import scipy.stats as stats"
   ]
  },
  {
   "cell_type": "code",
   "execution_count": 3,
   "metadata": {},
   "outputs": [
    {
     "name": "stdout",
     "output_type": "stream",
     "text": [
      "Requirement already satisfied: Jinja2 in c:\\users\\usuario\\appdata\\local\\programs\\python\\python310\\lib\\site-packages (3.0.3)\n",
      "Requirement already satisfied: MarkupSafe>=2.0 in c:\\users\\usuario\\appdata\\local\\programs\\python\\python310\\lib\\site-packages (from Jinja2) (2.1.0)\n",
      "Note: you may need to restart the kernel to use updated packages.\n"
     ]
    }
   ],
   "source": [
    "pip install Jinja2"
   ]
  },
  {
   "cell_type": "markdown",
   "metadata": {},
   "source": [
    "## Dados"
   ]
  },
  {
   "cell_type": "markdown",
   "metadata": {},
   "source": [
    "### Cidades\n",
    "Dados das cidades encontrados em: https://en.wikipedia.org/wiki/List_of_American_and_Canadian_cities_by_number_of_major_professional_sports_franchises"
   ]
  },
  {
   "cell_type": "code",
   "execution_count": 4,
   "metadata": {},
   "outputs": [
    {
     "name": "stdout",
     "output_type": "stream",
     "text": [
      "200\n"
     ]
    }
   ],
   "source": [
    "# pegando url da página onde se encontra a tabela de interesse\n",
    "url = \"https://en.wikipedia.org/wiki/List_of_American_and_Canadian_cities_by_number_of_major_professional_sports_franchises\"\n",
    "response = requests.get(url)\n",
    "print(response.status_code)"
   ]
  },
  {
   "cell_type": "code",
   "execution_count": 5,
   "metadata": {},
   "outputs": [],
   "source": [
    "# Transforma a página em texto html\n",
    "soup = BeautifulSoup(response.text, 'html.parser')"
   ]
  },
  {
   "cell_type": "markdown",
   "metadata": {},
   "source": [
    "para encontrar a tabela, utilize o inspect na página\n",
    "\n",
    "\n",
    "![](../input/table_class.jpg)"
   ]
  },
  {
   "cell_type": "code",
   "execution_count": 6,
   "metadata": {},
   "outputs": [],
   "source": [
    "# Encontra e traz apenas o texto html referente a tabela de interesse\n",
    "table_data = soup.find('table', {'class': \"wikitable\"})"
   ]
  },
  {
   "cell_type": "code",
   "execution_count": 7,
   "metadata": {},
   "outputs": [],
   "source": [
    "# criando uma lista com a tabela\n",
    "lista=pd.read_html(str(table_data))"
   ]
  },
  {
   "cell_type": "code",
   "execution_count": 8,
   "metadata": {},
   "outputs": [],
   "source": [
    "# convertendo a lista para dataframe\n",
    "cities=pd.DataFrame(lista[0])"
   ]
  },
  {
   "cell_type": "code",
   "execution_count": 9,
   "metadata": {},
   "outputs": [],
   "source": [
    "# limpeza de dados cities (retirando a última linha e mantendo apenas as colunas importantes)\n",
    "cities=cities.iloc[:-1,[0,3,5,6,7,8]]"
   ]
  },
  {
   "cell_type": "code",
   "execution_count": 10,
   "metadata": {},
   "outputs": [],
   "source": [
    "# renomeando coluna\n",
    "cities.rename(columns={'Population (2016 est.)[8]': 'Population_2016'}, inplace=True)"
   ]
  },
  {
   "cell_type": "code",
   "execution_count": 11,
   "metadata": {},
   "outputs": [],
   "source": [
    "# transformando coluna de população em númerica\n",
    "cities['Population_2016'] = pd.to_numeric(cities['Population_2016'])"
   ]
  },
  {
   "cell_type": "code",
   "execution_count": 12,
   "metadata": {},
   "outputs": [],
   "source": [
    "# baixando dados em csv\n",
    "cities.to_csv(\"../output/data/cities.csv\")"
   ]
  },
  {
   "cell_type": "code",
   "execution_count": 13,
   "metadata": {},
   "outputs": [],
   "source": [
    "# mantendo apenas as colunas necessárias\n",
    "cities = cities[['Metropolitan area', 'Population_2016']]"
   ]
  },
  {
   "cell_type": "markdown",
   "metadata": {},
   "source": [
    "### NHL\n",
    "Dados da NHL encontrados em: https://www.hockey-reference.com/leagues/NHL_2018.html"
   ]
  },
  {
   "cell_type": "code",
   "execution_count": 14,
   "metadata": {},
   "outputs": [],
   "source": [
    "# lendo url\n",
    "url = \"https://www.hockey-reference.com/leagues/NHL_2018.html\"\n",
    "nhl = pd.read_html(url, header=0)"
   ]
  },
  {
   "cell_type": "code",
   "execution_count": 15,
   "metadata": {},
   "outputs": [],
   "source": [
    "# criando dataframes\n",
    "nhl_0 = nhl[0]\n",
    "nhl_1 = nhl[1]"
   ]
  },
  {
   "cell_type": "code",
   "execution_count": 16,
   "metadata": {},
   "outputs": [],
   "source": [
    "# juntando os dataframes\n",
    "frames = [nhl_0, nhl_1]\n",
    "nhl_df = pd.concat(frames)"
   ]
  },
  {
   "cell_type": "code",
   "execution_count": 17,
   "metadata": {},
   "outputs": [],
   "source": [
    "# renomeando coluna\n",
    "nhl_df.rename(columns={'Unnamed: 0': 'Teams'}, inplace=True)"
   ]
  },
  {
   "cell_type": "code",
   "execution_count": 18,
   "metadata": {},
   "outputs": [],
   "source": [
    "# função que retira o * do final de alguns nomes de times\n",
    "nhl_df['Teams'] = nhl_df['Teams'].map(lambda x: x.rstrip('*'))"
   ]
  },
  {
   "cell_type": "code",
   "execution_count": 19,
   "metadata": {},
   "outputs": [],
   "source": [
    "# dicionário relacionando nome do time ao nome da região\n",
    "dict_city = {\n",
    "    'Tampa Bay Lightning': 'Tampa Bay Area',\n",
    "    'Boston Bruins': 'Boston',\n",
    "    'Toronto Maple Leafs': 'Toronto',\n",
    "    'Florida Panthers': 'Miami–Fort Lauderdale',\n",
    "    'Detroit Red Wings': 'Detroit',\n",
    "    'Montreal Canadiens': 'Montreal',\n",
    "    'Ottawa Senators': 'Ottawa',\n",
    "    'Buffalo Sabres': 'Buffalo',\n",
    "    'Washington Capitals': 'Washington, D.C.',\n",
    "    'Pittsburgh Penguins': 'Pittsburgh',\n",
    "    'Philadelphia Flyers': 'Philadelphia',\n",
    "    'Columbus Blue Jackets': 'Columbus',\n",
    "    'New Jersey Devils': 'New York City',\n",
    "    'Carolina Hurricanes': 'Raleigh',\n",
    "    'New York Islanders': 'New York City',\n",
    "    'New York Rangers': 'New York City',\n",
    "    'Nashville Predators': 'Nashville',\n",
    "    'Winnipeg Jets': 'Winnipeg',\n",
    "    'Minnesota Wild': 'Minneapolis–Saint Paul',\n",
    "    'Colorado Avalanche': 'Denver',\n",
    "    'St. Louis Blues': 'St. Louis',\n",
    "    'Dallas Stars': 'Dallas–Fort Worth',\n",
    "    'Chicago Blackhawks': 'Chicago',\n",
    "    'Vegas Golden Knights': 'Las Vegas',\n",
    "    'Anaheim Ducks': 'Los Angeles',\n",
    "    'San Jose Sharks': 'San Francisco Bay Area',\n",
    "    'Los Angeles Kings': 'Los Angeles',\n",
    "    'Calgary Flames': 'Calgary',\n",
    "    'Edmonton Oilers': 'Edmonton',\n",
    "    'Vancouver Canucks': 'Vancouver',\n",
    "    'Arizona Coyotes': 'Phoenix'\n",
    "}"
   ]
  },
  {
   "cell_type": "code",
   "execution_count": 20,
   "metadata": {},
   "outputs": [],
   "source": [
    "# função que adiciona o dicionário como coluna no dataframe\n",
    "nhl_df['Metropolitan area'] = nhl_df['Teams'].map(dict_city)"
   ]
  },
  {
   "cell_type": "code",
   "execution_count": 21,
   "metadata": {},
   "outputs": [],
   "source": [
    "# resetando o index\n",
    "nhl_df = nhl_df.reset_index(drop=True)"
   ]
  },
  {
   "cell_type": "code",
   "execution_count": 22,
   "metadata": {},
   "outputs": [],
   "source": [
    "# retirando linhas e resetando o índice\n",
    "nhl_df = nhl_df.drop([0, 9, 18, 26]).reset_index(drop=True)"
   ]
  },
  {
   "cell_type": "code",
   "execution_count": 23,
   "metadata": {},
   "outputs": [],
   "source": [
    "# tornando colunas numéricas para fazer cálculo da razão\n",
    "nhl_df['PTS'] = pd.to_numeric(nhl_df['PTS'])"
   ]
  },
  {
   "cell_type": "code",
   "execution_count": 24,
   "metadata": {},
   "outputs": [],
   "source": [
    "# relação vitórias/(vitórias + derrotas)\n",
    "nhl_df['ratio'] = nhl_df['PTS']/164"
   ]
  },
  {
   "cell_type": "code",
   "execution_count": 25,
   "metadata": {},
   "outputs": [],
   "source": [
    "# ordenando os valores pela razão performance\n",
    "nhl_df = nhl_df.sort_values(by='ratio', ascending=False)"
   ]
  },
  {
   "cell_type": "code",
   "execution_count": 26,
   "metadata": {},
   "outputs": [
    {
     "data": {
      "image/png": "[encoded data removed]",
      "text/plain": [
       "<Figure size 1296x432 with 1 Axes>"
      ]
     },
     "metadata": {
      "needs_background": "light"
     },
     "output_type": "display_data"
    }
   ],
   "source": [
    "nhl_df.plot(\n",
    "    x = 'Teams',\n",
    "    y = 'ratio', \n",
    "    kind='bar', \n",
    "    xlabel='Times', \n",
    "    ylabel=\"Razão Vitórias/Jogos\", \n",
    "    title=\"Performance Temporada Regular National Hockey League (NHL) 2018\", \n",
    "    color='darkgrey', \n",
    "    figsize=(18,6)\n",
    "    )\n",
    "\n",
    "y = nhl_df['ratio'].to_list()\n",
    "\n",
    "for index, value in enumerate(y):\n",
    "    plt.text(index - 0.30, value + 0.008, str(round(value, 2)))"
   ]
  },
  {
   "cell_type": "code",
   "execution_count": 27,
   "metadata": {},
   "outputs": [],
   "source": [
    "# baixando dados em csv\n",
    "nhl_df.to_csv(\"../output/data/nhl.csv\")"
   ]
  },
  {
   "cell_type": "code",
   "execution_count": 28,
   "metadata": {},
   "outputs": [],
   "source": [
    "# mantendo apenas as colunas necessárias\n",
    "nhl_df = nhl_df[['Teams', 'Metropolitan area', 'ratio']]"
   ]
  },
  {
   "cell_type": "markdown",
   "metadata": {},
   "source": [
    "### NBA\n",
    "Dados da NBA encontrados em: https://www.basketball-reference.com/leagues/NBA_2018.html"
   ]
  },
  {
   "cell_type": "code",
   "execution_count": 29,
   "metadata": {},
   "outputs": [],
   "source": [
    "# lendo url\n",
    "url = \"https://www.basketball-reference.com/leagues/NBA_2018.html\"\n",
    "nba = pd.read_html(url, header=0)"
   ]
  },
  {
   "cell_type": "code",
   "execution_count": 30,
   "metadata": {},
   "outputs": [],
   "source": [
    "# criando os dataframes\n",
    "nba_0 = nba[0]\n",
    "nba_1 = nba[1]"
   ]
  },
  {
   "cell_type": "code",
   "execution_count": 31,
   "metadata": {},
   "outputs": [],
   "source": [
    "# renomeando os dataframes\n",
    "nba_0.rename(columns={'Eastern Conference': 'Teams'}, inplace=True)\n",
    "nba_1.rename(columns={'Western Conference': 'Teams'}, inplace=True)"
   ]
  },
  {
   "cell_type": "code",
   "execution_count": 32,
   "metadata": {},
   "outputs": [],
   "source": [
    "# juntando os dataframes\n",
    "frames = [nba_0, nba_1]\n",
    "nba_df = pd.concat(frames)"
   ]
  },
  {
   "cell_type": "code",
   "execution_count": 33,
   "metadata": {},
   "outputs": [],
   "source": [
    "# função que retira o '*' da coluna Teams\n",
    "nba_df['Teams'] = nba_df['Teams'].map(lambda x: x.rstrip('*\\xa0'))"
   ]
  },
  {
   "cell_type": "code",
   "execution_count": 34,
   "metadata": {},
   "outputs": [],
   "source": [
    "# resetando o index\n",
    "nba_df = nba_df.reset_index(drop=True)"
   ]
  },
  {
   "cell_type": "code",
   "execution_count": 35,
   "metadata": {},
   "outputs": [],
   "source": [
    "# dicionário relacionando nome do time ao nome da região\n",
    "dict_city = {\n",
    "    'Toronto Raptors': 'Toronto',\n",
    "    'Boston Celtics': 'Boston',\n",
    "    'Philadelphia 76ers': 'Philadelphia',\n",
    "    'Cleveland Cavaliers': 'Cleveland',\n",
    "    'Indiana Pacers': 'Indianapolis',\n",
    "    'Miami Heat': 'Miami–Fort Lauderdale',\n",
    "    'Milwaukee Bucks': 'Milwaukee',\n",
    "    'Washington Wizards': 'Washington, D.C.',\n",
    "    'Detroit Pistons': 'Detroit',\n",
    "    'Charlotte Hornets': 'Charlotte',\n",
    "    'New York Knicks': 'New York City',\n",
    "    'Brooklyn Nets': 'New York City',\n",
    "    'Chicago Bulls': 'Chicago',\n",
    "    'Orlando Magic': 'Orlando',\n",
    "    'Atlanta Hawks': 'Atlanta',\n",
    "    'Houston Rockets': 'Houston',\n",
    "    'Golden State Warriors': 'San Francisco Bay Area',\n",
    "    'Portland Trail Blazers': 'Portland',\n",
    "    'Oklahoma City Thunder': 'Oklahoma City',\n",
    "    'Utah Jazz': 'Salt Lake City',\n",
    "    'New Orleans Pelicans': 'New Orleans',\n",
    "    'San Antonio Spurs': 'San Antonio',\n",
    "    'Minnesota Timberwolves': 'Minneapolis–Saint Paul',\n",
    "    'Denver Nuggets': 'Denver',\n",
    "    'Los Angeles Clippers': 'Los Angeles',\n",
    "    'Los Angeles Lakers': 'Los Angeles',\n",
    "    'Sacramento Kings': 'Sacramento',\n",
    "    'Dallas Mavericks': 'Dallas–Fort Worth',\n",
    "    'Memphis Grizzlies': 'Memphis',\n",
    "    'Phoenix Suns': 'Phoenix'\n",
    "}"
   ]
  },
  {
   "cell_type": "code",
   "execution_count": 36,
   "metadata": {},
   "outputs": [],
   "source": [
    "# função que adiciona o dicionário como coluna no dataframe\n",
    "nba_df['Metropolitan area'] = nba_df['Teams'].map(dict_city)"
   ]
  },
  {
   "cell_type": "code",
   "execution_count": 37,
   "metadata": {},
   "outputs": [],
   "source": [
    "# tornando colunas numéricas para fazer cálculo da razão\n",
    "nba_df['W'] = pd.to_numeric(nba_df['W'])\n",
    "nba_df['L'] = pd.to_numeric(nba_df['L'])"
   ]
  },
  {
   "cell_type": "code",
   "execution_count": 38,
   "metadata": {},
   "outputs": [],
   "source": [
    "# relação vitórias/(vitórias + derrotas)\n",
    "nba_df['ratio'] = nba_df['W']/(nba_df['W'] + nba_df['L'])"
   ]
  },
  {
   "cell_type": "code",
   "execution_count": 39,
   "metadata": {},
   "outputs": [],
   "source": [
    "# ordenando os valores pela razão performance\n",
    "nba_df = nba_df.sort_values(by='ratio', ascending=False)"
   ]
  },
  {
   "cell_type": "code",
   "execution_count": 40,
   "metadata": {},
   "outputs": [
    {
     "data": {
      "image/png": "[encoded data removed]",
      "text/plain": [
       "<Figure size 1296x432 with 1 Axes>"
      ]
     },
     "metadata": {
      "needs_background": "light"
     },
     "output_type": "display_data"
    }
   ],
   "source": [
    "nba_df.plot(\n",
    "    x = 'Teams',\n",
    "    y = 'ratio', \n",
    "    kind='bar', \n",
    "    xlabel='Times', \n",
    "    ylabel=\"Razão Vitórias/Jogos\", \n",
    "    title=\"Performance Temporada Regular National Basketball Association (NBA) 2018\", \n",
    "    color='darkgrey', \n",
    "    figsize=(18,6)\n",
    "    )\n",
    "\n",
    "y = nba_df['ratio'].to_list()\n",
    "\n",
    "for index, value in enumerate(y):\n",
    "    plt.text(index - 0.30, value + 0.008, str(round(value, 2)))"
   ]
  },
  {
   "cell_type": "code",
   "execution_count": 41,
   "metadata": {},
   "outputs": [],
   "source": [
    "# baixando dados em csv\n",
    "nba_df.to_csv(\"../output/data/nba.csv\")"
   ]
  },
  {
   "cell_type": "code",
   "execution_count": 42,
   "metadata": {},
   "outputs": [],
   "source": [
    "# mantendo apenas as colunas necessárias\n",
    "nba_df = nba_df[['Teams', 'Metropolitan area', 'ratio']]"
   ]
  },
  {
   "cell_type": "markdown",
   "metadata": {},
   "source": [
    "### MLB\n",
    "Dados da MLB encontrados em: https://www.baseball-reference.com/leagues/majors/2018.shtml"
   ]
  },
  {
   "cell_type": "code",
   "execution_count": 43,
   "metadata": {},
   "outputs": [],
   "source": [
    "# lendo url\n",
    "url = \"https://www.baseball-reference.com/leagues/majors/2018-standings.shtml\"\n",
    "mlb = pd.read_html(url, header=0)\n"
   ]
  },
  {
   "cell_type": "code",
   "execution_count": 44,
   "metadata": {},
   "outputs": [],
   "source": [
    "# criando os dataframes\n",
    "mlb_0 = mlb[0]\n",
    "mlb_1 = mlb[1]\n",
    "mlb_2 = mlb[2]\n",
    "mlb_3 = mlb[3]\n",
    "mlb_4 = mlb[4]\n",
    "mlb_5 = mlb[5]"
   ]
  },
  {
   "cell_type": "code",
   "execution_count": 45,
   "metadata": {},
   "outputs": [],
   "source": [
    "# juntando os dataframes\n",
    "frames = [mlb_0, mlb_1, mlb_2, mlb_3, mlb_4, mlb_5]\n",
    "mlb_df = pd.concat(frames)"
   ]
  },
  {
   "cell_type": "code",
   "execution_count": 46,
   "metadata": {},
   "outputs": [],
   "source": [
    "# resetando o index\n",
    "mlb_df = mlb_df.reset_index(drop=True)"
   ]
  },
  {
   "cell_type": "code",
   "execution_count": 47,
   "metadata": {},
   "outputs": [],
   "source": [
    "# renomeando a coluna do time\n",
    "mlb_df.rename(columns={'Tm': 'Teams'}, inplace=True)"
   ]
  },
  {
   "cell_type": "code",
   "execution_count": 48,
   "metadata": {},
   "outputs": [],
   "source": [
    "# dicionário relacionando nome do time ao nome da região\n",
    "dict_city = {\n",
    "    'Boston Red Sox': 'Boston',\n",
    "    'New York Yankees': 'New York City',\n",
    "    'Tampa Bay Rays': 'Tampa Bay Area',\n",
    "    'Toronto Blue Jays': 'Toronto',\n",
    "    'Baltimore Orioles': 'Baltimore',\n",
    "    'Cleveland Indians': 'Cleveland',\n",
    "    'Minnesota Twins': 'Minneapolis–Saint Paul',\n",
    "    'Detroit Tigers': 'Detroit',\n",
    "    'Chicago White Sox': 'Chicago',\n",
    "    'Kansas City Royals': 'Kansas City',\n",
    "    'Houston Astros': 'Houston',\n",
    "    'Oakland Athletics': 'San Francisco Bay Area',\n",
    "    'Seattle Mariners': 'Seattle',\n",
    "    'Los Angeles Angels': 'Los Angeles',\n",
    "    'Texas Rangers': 'Dallas–Fort Worth',\n",
    "    'Atlanta Braves': 'Atlanta',\n",
    "    'Washington Nationals': 'Washington, D.C.',\n",
    "    'Philadelphia Phillies': 'Philadelphia',\n",
    "    'New York Mets': 'New York City',\n",
    "    'Miami Marlins': 'Miami–Fort Lauderdale',\n",
    "    'Milwaukee Brewers': 'Milwaukee',\n",
    "    'Chicago Cubs': 'Chicago',\n",
    "    'St. Louis Cardinals': 'St. Louis',\n",
    "    'Pittsburgh Pirates': 'Pittsburgh',\n",
    "    'Cincinnati Reds': 'Cincinnati',\n",
    "    'Los Angeles Dodgers': 'Los Angeles',\n",
    "    'Colorado Rockies': 'Denver',\n",
    "    'Arizona Diamondbacks': 'Phoenix',\n",
    "    'San Francisco Giants': 'San Francisco Bay Area',\n",
    "    'San Diego Padres': 'San Diego'\n",
    "}"
   ]
  },
  {
   "cell_type": "code",
   "execution_count": 49,
   "metadata": {},
   "outputs": [],
   "source": [
    "# função que adiciona o dicionário como coluna no dataframe\n",
    "mlb_df['Metropolitan area'] = mlb_df['Teams'].map(dict_city)"
   ]
  },
  {
   "cell_type": "code",
   "execution_count": 50,
   "metadata": {},
   "outputs": [],
   "source": [
    "# tornando colunas numéricas para fazer cálculo da razão\n",
    "mlb_df['W'] = pd.to_numeric(mlb_df['W'])\n",
    "mlb_df['L'] = pd.to_numeric(mlb_df['L'])"
   ]
  },
  {
   "cell_type": "code",
   "execution_count": 51,
   "metadata": {},
   "outputs": [],
   "source": [
    "# relação vitórias/(vitórias + derrotas)\n",
    "mlb_df['ratio'] = mlb_df['W']/(mlb_df['W'] + mlb_df['L'])"
   ]
  },
  {
   "cell_type": "code",
   "execution_count": 52,
   "metadata": {},
   "outputs": [],
   "source": [
    "# ordenando os valores pela razão performance\n",
    "mlb_df = mlb_df.sort_values(by='ratio', ascending=False)"
   ]
  },
  {
   "cell_type": "code",
   "execution_count": 53,
   "metadata": {},
   "outputs": [
    {
     "data": {
      "image/png": "[encoded data removed]",
      "text/plain": [
       "<Figure size 1296x432 with 1 Axes>"
      ]
     },
     "metadata": {
      "needs_background": "light"
     },
     "output_type": "display_data"
    }
   ],
   "source": [
    "mlb_df.plot(\n",
    "    x = 'Teams',\n",
    "    y = 'ratio', \n",
    "    kind='bar', \n",
    "    xlabel='Times', \n",
    "    ylabel=\"Razão Vitórias/Jogos\", \n",
    "    title=\"Performance Temporada Regular Major League Baseball (MLB) 2018\", \n",
    "    color='darkgrey', \n",
    "    figsize=(18,6)\n",
    "    )\n",
    "\n",
    "y = mlb_df['ratio'].to_list()\n",
    "\n",
    "for index, value in enumerate(y):\n",
    "    plt.text(index - 0.30, value + 0.008, str(round(value, 2)))"
   ]
  },
  {
   "cell_type": "code",
   "execution_count": 54,
   "metadata": {},
   "outputs": [],
   "source": [
    "# baixando dados em csv\n",
    "mlb_df.to_csv(\"../output/data/mlb.csv\")"
   ]
  },
  {
   "cell_type": "code",
   "execution_count": 55,
   "metadata": {},
   "outputs": [],
   "source": [
    "# mantendo apenas as colunas necessárias\n",
    "mlb_df = mlb_df[['Teams', 'Metropolitan area', 'ratio']]"
   ]
  },
  {
   "cell_type": "markdown",
   "metadata": {},
   "source": [
    "### NFL\n",
    "Dados da NFL encontrados em: https://www.pro-football-reference.com/years/2018/"
   ]
  },
  {
   "cell_type": "code",
   "execution_count": 56,
   "metadata": {},
   "outputs": [],
   "source": [
    "# lendo url\n",
    "url = \"https://www.pro-football-reference.com/years/2018/\"\n",
    "nfl = pd.read_html(url, header=0)"
   ]
  },
  {
   "cell_type": "code",
   "execution_count": 57,
   "metadata": {},
   "outputs": [],
   "source": [
    "# criando os dataframes\n",
    "nfl_0 = nfl[0]\n",
    "nfl_1 = nfl[1]"
   ]
  },
  {
   "cell_type": "code",
   "execution_count": 58,
   "metadata": {},
   "outputs": [],
   "source": [
    "# juntando os dataframes\n",
    "frames = [nfl_0, nfl_1]\n",
    "nfl_df = pd.concat(frames)"
   ]
  },
  {
   "cell_type": "code",
   "execution_count": 59,
   "metadata": {},
   "outputs": [],
   "source": [
    "# resetando o index\n",
    "nfl_df = nfl_df.reset_index(drop=True)"
   ]
  },
  {
   "cell_type": "code",
   "execution_count": 60,
   "metadata": {},
   "outputs": [],
   "source": [
    "# renomeando a coluna do time\n",
    "nfl_df.rename(columns={'Tm': 'Teams'}, inplace=True)"
   ]
  },
  {
   "cell_type": "code",
   "execution_count": 61,
   "metadata": {},
   "outputs": [],
   "source": [
    "# função que retira o * e + do final de alguns nomes de times\n",
    "nfl_df['Teams'] = nfl_df['Teams'].map(lambda x: x.rstrip('*'))\n",
    "nfl_df['Teams'] = nfl_df['Teams'].map(lambda x: x.rstrip('+'))"
   ]
  },
  {
   "cell_type": "code",
   "execution_count": 62,
   "metadata": {},
   "outputs": [],
   "source": [
    "# retirando linhas e resetando o índice\n",
    "nfl_df = nfl_df.drop([0, 5, 10, 15, 20, 25, 30, 35]).reset_index(drop=True)"
   ]
  },
  {
   "cell_type": "code",
   "execution_count": 63,
   "metadata": {},
   "outputs": [],
   "source": [
    "# dicionário relacionando nome do time ao nome da região\n",
    "dict_city = {\n",
    "    'New England Patriots': 'Boston',\n",
    "    'Miami Dolphins': 'Miami–Fort Lauderdale',\n",
    "    'Buffalo Bills': 'Buffalo',\n",
    "    'New York Jets': 'New York City',\n",
    "    'Baltimore Ravens': 'Baltimore',\n",
    "    'Pittsburgh Steelers': 'Pittsburgh',\n",
    "    'Cleveland Browns': 'Cleveland',\n",
    "    'Cincinnati Bengals': 'Cincinnati',\n",
    "    'Houston Texans': 'Houston',\n",
    "    'Indianapolis Colts': 'Indianapolis',\n",
    "    'Tennessee Titans': 'Nashville',\n",
    "    'Jacksonville Jaguars': 'Jacksonville',\n",
    "    'Kansas City Chiefs': 'Kansas City',\n",
    "    'Los Angeles Chargers': 'Los Angeles',\n",
    "    'Denver Broncos': 'Denver',\n",
    "    'Oakland Raiders': 'San Francisco Bay Area',\n",
    "    'Dallas Cowboys': 'Dallas–Fort Worth',\n",
    "    'Philadelphia Eagles': 'Philadelphia',\n",
    "    'Washington Redskins': 'Washington, D.C.',\n",
    "    'New York Giants': 'New York City',\n",
    "    'Chicago Bears': 'Chicago',\n",
    "    'Minnesota Vikings': 'Minneapolis–Saint Paul',\n",
    "    'Green Bay Packers': 'Green Bay',\n",
    "    'Detroit Lions': 'Detroit',\n",
    "    'New Orleans Saints': 'New Orleans',\n",
    "    'Carolina Panthers': 'Charlotte',\n",
    "    'Atlanta Falcons': 'Atlanta',\n",
    "    'Tampa Bay Buccaneers': 'Tampa Bay Area',\n",
    "    'Los Angeles Rams': 'Los Angeles',\n",
    "    'Seattle Seahawks': 'Seattle',\n",
    "    'San Francisco 49ers': 'San Francisco Bay Area',\n",
    "    'Arizona Cardinals': 'Phoenix'\n",
    "}"
   ]
  },
  {
   "cell_type": "code",
   "execution_count": 64,
   "metadata": {},
   "outputs": [],
   "source": [
    "# função que adiciona o dicionário como coluna no dataframe\n",
    "nfl_df['Metropolitan area'] = nfl_df['Teams'].map(dict_city)"
   ]
  },
  {
   "cell_type": "code",
   "execution_count": 65,
   "metadata": {},
   "outputs": [],
   "source": [
    "# tornando colunas numéricas para fazer cálculo da razão\n",
    "nfl_df['W'] = pd.to_numeric(nfl_df['W'])\n",
    "nfl_df['L'] = pd.to_numeric(nfl_df['L'])"
   ]
  },
  {
   "cell_type": "code",
   "execution_count": 66,
   "metadata": {},
   "outputs": [],
   "source": [
    "# relação vitórias/(vitórias + derrotas)\n",
    "nfl_df['ratio'] = nfl_df['W']/(nfl_df['W'] + nfl_df['L'])"
   ]
  },
  {
   "cell_type": "code",
   "execution_count": 67,
   "metadata": {},
   "outputs": [],
   "source": [
    "# ordenando os valores pela razão performance\n",
    "nfl_df = nfl_df.sort_values(by='ratio', ascending=False)"
   ]
  },
  {
   "cell_type": "code",
   "execution_count": 68,
   "metadata": {},
   "outputs": [
    {
     "data": {
      "image/png": "[encoded data removed]",
      "text/plain": [
       "<Figure size 1296x432 with 1 Axes>"
      ]
     },
     "metadata": {
      "needs_background": "light"
     },
     "output_type": "display_data"
    }
   ],
   "source": [
    "nfl_df.plot(\n",
    "    x = 'Teams',\n",
    "    y = 'ratio', \n",
    "    kind='bar', \n",
    "    xlabel='Times', \n",
    "    ylabel=\"Razão Vitórias/Jogos\", \n",
    "    title=\"Performance Temporada Regular National Football League (NFL) 2018\", \n",
    "    color='darkgrey', \n",
    "    figsize=(18,6)\n",
    "    )\n",
    "\n",
    "y = nfl_df['ratio'].to_list()\n",
    "\n",
    "for index, value in enumerate(y):\n",
    "    plt.text(index - 0.30, value + 0.008, str(round(value, 2)))"
   ]
  },
  {
   "cell_type": "code",
   "execution_count": 69,
   "metadata": {},
   "outputs": [],
   "source": [
    "# baixando dados em csv\n",
    "nfl_df.to_csv(\"../output/data/nfl.csv\")"
   ]
  },
  {
   "cell_type": "code",
   "execution_count": 70,
   "metadata": {},
   "outputs": [],
   "source": [
    "# mantendo apenas as colunas necessárias\n",
    "nfl_df = nfl_df[['Teams', 'Metropolitan area', 'ratio']]"
   ]
  },
  {
   "cell_type": "markdown",
   "metadata": {},
   "source": [
    "## Questões"
   ]
  },
  {
   "cell_type": "markdown",
   "metadata": {},
   "source": [
    "#### Correlação entre Razão Performance de NHL e População"
   ]
  },
  {
   "cell_type": "code",
   "execution_count": 71,
   "metadata": {},
   "outputs": [],
   "source": [
    "# unindo os dataframes nhl_df e cities pela area metropolitana\n",
    "corr_nhl = pd.merge(nhl_df, cities, how = 'left', on = ['Metropolitan area'])"
   ]
  },
  {
   "cell_type": "code",
   "execution_count": 72,
   "metadata": {},
   "outputs": [
    {
     "name": "stderr",
     "output_type": "stream",
     "text": [
      "C:\\Users\\Usuario\\AppData\\Local\\Temp\\ipykernel_3048\\274031992.py:2: FutureWarning: Indexing with multiple keys (implicitly converted to a tuple of keys) will be deprecated, use a list instead.\n",
      "  corr_nhl = corr_nhl.groupby(['Metropolitan area'])['ratio','Population_2016'].mean()\n"
     ]
    }
   ],
   "source": [
    "# tirando a média da razão de performance no caso de dois times pertencerem a mesma região\n",
    "corr_nhl = corr_nhl.groupby(['Metropolitan area'])['ratio','Population_2016'].mean()"
   ]
  },
  {
   "cell_type": "code",
   "execution_count": 73,
   "metadata": {},
   "outputs": [],
   "source": [
    "# gerando listas\n",
    "population_by_region = corr_nhl['Population_2016'].tolist()\n",
    "ratio_by_region = corr_nhl['ratio'].tolist()"
   ]
  },
  {
   "cell_type": "code",
   "execution_count": 74,
   "metadata": {},
   "outputs": [],
   "source": [
    "# tirando a correlação entre as duas listas\n",
    "nhl_pop = stats.pearsonr(population_by_region, ratio_by_region)[0]"
   ]
  },
  {
   "cell_type": "markdown",
   "metadata": {},
   "source": [
    "#### Correlação entre Razão Performance de NBA e População"
   ]
  },
  {
   "cell_type": "code",
   "execution_count": 75,
   "metadata": {},
   "outputs": [],
   "source": [
    "# unindo os dois dataframes\n",
    "corr_nba = pd.merge(nba_df, cities, how='left', on=['Metropolitan area'])"
   ]
  },
  {
   "cell_type": "code",
   "execution_count": 76,
   "metadata": {},
   "outputs": [
    {
     "name": "stderr",
     "output_type": "stream",
     "text": [
      "C:\\Users\\Usuario\\AppData\\Local\\Temp\\ipykernel_3048\\728589221.py:2: FutureWarning: Indexing with multiple keys (implicitly converted to a tuple of keys) will be deprecated, use a list instead.\n",
      "  corr_nba = corr_nba.groupby('Metropolitan area')['ratio','Population_2016'].mean()\n"
     ]
    }
   ],
   "source": [
    "# tirando a média da razão de performance no caso de dois times pertencerem a mesma região\n",
    "corr_nba = corr_nba.groupby('Metropolitan area')['ratio','Population_2016'].mean()"
   ]
  },
  {
   "cell_type": "code",
   "execution_count": 77,
   "metadata": {},
   "outputs": [],
   "source": [
    "# gerando listas\n",
    "population_by_region = corr_nba['Population_2016'].tolist()\n",
    "ratio_by_region = corr_nba['ratio'].tolist()"
   ]
  },
  {
   "cell_type": "code",
   "execution_count": 78,
   "metadata": {},
   "outputs": [],
   "source": [
    "# tirando a correlação entre as duas listas\n",
    "nba_pop = stats.pearsonr(population_by_region, ratio_by_region)[0]"
   ]
  },
  {
   "cell_type": "markdown",
   "metadata": {},
   "source": [
    "#### Correlação entre Razão Performance de MLB e População"
   ]
  },
  {
   "cell_type": "code",
   "execution_count": 79,
   "metadata": {},
   "outputs": [],
   "source": [
    "# unindo os dois dataframes\n",
    "corr_mlb = pd.merge(mlb_df, cities, how='left', on=['Metropolitan area'])"
   ]
  },
  {
   "cell_type": "code",
   "execution_count": 80,
   "metadata": {},
   "outputs": [
    {
     "name": "stderr",
     "output_type": "stream",
     "text": [
      "C:\\Users\\Usuario\\AppData\\Local\\Temp\\ipykernel_3048\\2111711154.py:2: FutureWarning: Indexing with multiple keys (implicitly converted to a tuple of keys) will be deprecated, use a list instead.\n",
      "  corr_mlb = corr_mlb.groupby('Metropolitan area')['ratio','Population_2016'].mean()\n"
     ]
    }
   ],
   "source": [
    "# tirando a média da razão de performance no caso de dois times pertencerem a mesma região\n",
    "corr_mlb = corr_mlb.groupby('Metropolitan area')['ratio','Population_2016'].mean()"
   ]
  },
  {
   "cell_type": "code",
   "execution_count": 81,
   "metadata": {},
   "outputs": [],
   "source": [
    "# gerando listas\n",
    "population_by_region = corr_mlb['Population_2016'].tolist()\n",
    "ratio_by_region = corr_mlb['ratio'].tolist()"
   ]
  },
  {
   "cell_type": "code",
   "execution_count": 82,
   "metadata": {},
   "outputs": [],
   "source": [
    "# tirando a correlação entre as duas listas\n",
    "mlb_pop = stats.pearsonr(population_by_region, ratio_by_region)[0]"
   ]
  },
  {
   "cell_type": "markdown",
   "metadata": {},
   "source": [
    "#### Correlação entre Razão Performance de MLB e População"
   ]
  },
  {
   "cell_type": "code",
   "execution_count": 83,
   "metadata": {},
   "outputs": [],
   "source": [
    "# unindo os dois dataframes\n",
    "corr_nfl = pd.merge(nfl_df, cities, how='left', on=['Metropolitan area'])"
   ]
  },
  {
   "cell_type": "code",
   "execution_count": 84,
   "metadata": {},
   "outputs": [
    {
     "name": "stderr",
     "output_type": "stream",
     "text": [
      "C:\\Users\\Usuario\\AppData\\Local\\Temp\\ipykernel_3048\\2135599210.py:2: FutureWarning: Indexing with multiple keys (implicitly converted to a tuple of keys) will be deprecated, use a list instead.\n",
      "  corr_nfl = corr_nfl.groupby('Metropolitan area')['ratio','Population_2016'].mean()\n"
     ]
    }
   ],
   "source": [
    "# tirando a média da razão de performance no caso de dois times pertencerem a mesma região\n",
    "corr_nfl = corr_nfl.groupby('Metropolitan area')['ratio','Population_2016'].mean()"
   ]
  },
  {
   "cell_type": "code",
   "execution_count": 85,
   "metadata": {},
   "outputs": [],
   "source": [
    "# gerando listas\n",
    "population_by_region = corr_nfl['Population_2016'].tolist()\n",
    "ratio_by_region = corr_nfl['ratio'].tolist()"
   ]
  },
  {
   "cell_type": "code",
   "execution_count": 86,
   "metadata": {},
   "outputs": [],
   "source": [
    "# tirando a correlação entre as duas listas\n",
    "nfl_pop = stats.pearsonr(population_by_region, ratio_by_region)[0]"
   ]
  },
  {
   "cell_type": "markdown",
   "metadata": {},
   "source": [
    "### Tabela Correlações"
   ]
  },
  {
   "cell_type": "code",
   "execution_count": 87,
   "metadata": {},
   "outputs": [],
   "source": [
    "# lista dos esportes\n",
    "sports = ['NFL', 'NBA', 'NHL', 'MLB']\n",
    "corr_pop = [nfl_pop, nba_pop, nhl_pop, mlb_pop]"
   ]
  },
  {
   "cell_type": "code",
   "execution_count": 88,
   "metadata": {},
   "outputs": [],
   "source": [
    "corr_table = pd.DataFrame(corr_pop, index=sports, columns=['População 2016'])"
   ]
  },
  {
   "cell_type": "code",
   "execution_count": 89,
   "metadata": {},
   "outputs": [
    {
     "data": {
      "text/html": [
       "<div>\n",
       "<style scoped>\n",
       "    .dataframe tbody tr th:only-of-type {\n",
       "        vertical-align: middle;\n",
       "    }\n",
       "\n",
       "    .dataframe tbody tr th {\n",
       "        vertical-align: top;\n",
       "    }\n",
       "\n",
       "    .dataframe thead th {\n",
       "        text-align: right;\n",
       "    }\n",
       "</style>\n",
       "<table border=\"1\" class=\"dataframe\">\n",
       "  <thead>\n",
       "    <tr style=\"text-align: right;\">\n",
       "      <th></th>\n",
       "      <th>População 2016</th>\n",
       "    </tr>\n",
       "  </thead>\n",
       "  <tbody>\n",
       "    <tr>\n",
       "      <th>NFL</th>\n",
       "      <td>0.004922</td>\n",
       "    </tr>\n",
       "    <tr>\n",
       "      <th>NBA</th>\n",
       "      <td>-0.176572</td>\n",
       "    </tr>\n",
       "    <tr>\n",
       "      <th>NHL</th>\n",
       "      <td>0.006519</td>\n",
       "    </tr>\n",
       "    <tr>\n",
       "      <th>MLB</th>\n",
       "      <td>0.150277</td>\n",
       "    </tr>\n",
       "  </tbody>\n",
       "</table>\n",
       "</div>"
      ],
      "text/plain": [
       "     População 2016\n",
       "NFL        0.004922\n",
       "NBA       -0.176572\n",
       "NHL        0.006519\n",
       "MLB        0.150277"
      ]
     },
     "execution_count": 89,
     "metadata": {},
     "output_type": "execute_result"
    }
   ],
   "source": [
    "corr_table"
   ]
  },
  {
   "cell_type": "code",
   "execution_count": 90,
   "metadata": {},
   "outputs": [
    {
     "data": {
      "text/plain": [
       "'\\\\begin{tabular}{lr}\\n & População 2016 \\\\\\\\\\nNFL & 0.004922 \\\\\\\\\\nNBA & -0.176572 \\\\\\\\\\nNHL & 0.006519 \\\\\\\\\\nMLB & 0.150277 \\\\\\\\\\n\\\\end{tabular}\\n'"
      ]
     },
     "execution_count": 90,
     "metadata": {},
     "output_type": "execute_result"
    }
   ],
   "source": [
    "corr_table.style.to_latex()"
   ]
  },
  {
   "cell_type": "code",
   "execution_count": 91,
   "metadata": {},
   "outputs": [],
   "source": [
    "corr_table.to_csv(\"../output/tables/corr_table.csv\")"
   ]
  },
  {
   "cell_type": "markdown",
   "metadata": {},
   "source": [
    "#### Matriz de correlação entre cada liga"
   ]
  },
  {
   "cell_type": "code",
   "execution_count": 92,
   "metadata": {},
   "outputs": [],
   "source": [
    "# dropando a coluna população, pois não será mais usada\n",
    "corr_nhl.drop(columns=['Population_2016'], inplace=True)\n",
    "corr_nba.drop(columns=['Population_2016'], inplace=True)\n",
    "corr_mlb.drop(columns=['Population_2016'], inplace=True)\n",
    "corr_nfl.drop(columns=['Population_2016'], inplace=True)"
   ]
  },
  {
   "cell_type": "code",
   "execution_count": 93,
   "metadata": {},
   "outputs": [],
   "source": [
    "# renomeando colunas para não se perder depois\n",
    "corr_nhl.rename(columns={'ratio': 'ratio_nhl'}, inplace=True)\n",
    "corr_nba.rename(columns={'ratio': 'ratio_nba'}, inplace=True)\n",
    "corr_mlb.rename(columns={'ratio': 'ratio_mlb'}, inplace=True)\n",
    "corr_nfl.rename(columns={'ratio': 'ratio_nfl'}, inplace=True)"
   ]
  },
  {
   "cell_type": "code",
   "execution_count": 94,
   "metadata": {},
   "outputs": [],
   "source": [
    "# criando todos dataframes dos pares de ligas com as colunas ratios para cada liga\n",
    "# usaremos o inner, porque se uma das ligas não tiver time em certa região, não faz sentido calcular a correlação entre elas\n",
    "nba_nfl = pd.merge(corr_nba, corr_nfl, how='inner', left_index=True, right_index=True)\n",
    "nba_nhl = pd.merge(corr_nba, corr_nhl, how='inner', left_index=True, right_index=True)\n",
    "nba_mlb = pd.merge(corr_nba, corr_mlb, how='inner', left_index=True, right_index=True)\n",
    "nfl_nhl = pd.merge(corr_nfl, corr_nhl, how='inner', left_index=True, right_index=True)\n",
    "nfl_mlb = pd.merge(corr_nfl, corr_mlb, how='inner', left_index=True, right_index=True)\n",
    "nhl_mlb = pd.merge(corr_nhl, corr_mlb, how='inner', left_index=True, right_index=True)"
   ]
  },
  {
   "cell_type": "code",
   "execution_count": 95,
   "metadata": {},
   "outputs": [],
   "source": [
    "# lista dos esportes\n",
    "sports = ['NFL', 'NBA', 'NHL', 'MLB']"
   ]
  },
  {
   "cell_type": "code",
   "execution_count": 96,
   "metadata": {},
   "outputs": [],
   "source": [
    "# criando um dataframe de valores nan\n",
    "corr_matrix = pd.DataFrame({k:np.nan for k in sports}, index=sports)"
   ]
  },
  {
   "cell_type": "code",
   "execution_count": 97,
   "metadata": {},
   "outputs": [],
   "source": [
    "for i in range(len(corr_matrix)):\n",
    "    for j in range(len(corr_matrix)):\n",
    "        if i==j:\n",
    "            pass\n",
    "        elif ((corr_matrix.index[i]=='NFL' and corr_matrix.columns[j]=='NBA')or(corr_matrix.index[i]=='NBA' and corr_matrix.columns[j]=='NFL')):\n",
    "            corr_matrix.iloc[i][j] = stats.pearsonr(nba_nfl['ratio_nba'],nba_nfl['ratio_nfl'])[0]\n",
    "            corr_matrix.iloc[j][i] = stats.pearsonr(nba_nfl['ratio_nba'],nba_nfl['ratio_nfl'])[0]\n",
    "        elif ((corr_matrix.index[i]=='NFL' and corr_matrix.columns[j]=='NHL')or(corr_matrix.index[i]=='NHL' and corr_matrix.columns[j]=='NFL')):\n",
    "            corr_matrix.iloc[i][j] = stats.pearsonr(nfl_nhl['ratio_nhl'],nfl_nhl['ratio_nfl'])[0]\n",
    "            corr_matrix.iloc[j][i] = stats.pearsonr(nfl_nhl['ratio_nhl'],nfl_nhl['ratio_nfl'])[0]\n",
    "        elif ((corr_matrix.index[i]=='NFL' and corr_matrix.columns[j]=='MLB')or(corr_matrix.index[i]=='MLB' and corr_matrix.columns[j]=='NFL')):\n",
    "            corr_matrix.iloc[i][j] = stats.pearsonr(nfl_mlb['ratio_mlb'],nfl_mlb['ratio_nfl'])[0]\n",
    "            corr_matrix.iloc[j][i] = stats.pearsonr(nfl_mlb['ratio_mlb'],nfl_mlb['ratio_nfl'])[0]\n",
    "        elif ((corr_matrix.index[i]=='NBA' and corr_matrix.columns[j]=='NHL')or(corr_matrix.index[i]=='NHL' and corr_matrix.columns[j]=='NBA')):\n",
    "            corr_matrix.iloc[i][j] = stats.pearsonr(nba_nhl['ratio_nba'],nba_nhl['ratio_nhl'])[0]\n",
    "            corr_matrix.iloc[j][i] = stats.pearsonr(nba_nhl['ratio_nba'],nba_nhl['ratio_nhl'])[0]\n",
    "        elif ((corr_matrix.index[i]=='NBA' and corr_matrix.columns[j]=='MLB')or(corr_matrix.index[i]=='MLB' and corr_matrix.columns[j]=='NBA')):\n",
    "            corr_matrix.iloc[i][j] = stats.pearsonr(nba_mlb['ratio_nba'],nba_mlb['ratio_mlb'])[0]\n",
    "            corr_matrix.iloc[j][i] = stats.pearsonr(nba_mlb['ratio_nba'],nba_mlb['ratio_mlb'])[0]\n",
    "        elif ((corr_matrix.index[i]=='NHL' and corr_matrix.columns[j]=='MLB')or(corr_matrix.index[i]=='MLB' and corr_matrix.columns[j]=='NHL')):\n",
    "            corr_matrix.iloc[i][j] = stats.pearsonr(nhl_mlb['ratio_nhl'],nhl_mlb['ratio_mlb'])[0]\n",
    "            corr_matrix.iloc[j][i] = stats.pearsonr(nhl_mlb['ratio_nhl'],nhl_mlb['ratio_mlb'])[0]"
   ]
  },
  {
   "cell_type": "code",
   "execution_count": 98,
   "metadata": {},
   "outputs": [
    {
     "data": {
      "text/plain": [
       "(0.7594963823735947, 0.0016263969926420272)"
      ]
     },
     "execution_count": 98,
     "metadata": {},
     "output_type": "execute_result"
    }
   ],
   "source": [
    "stats.pearsonr(nba_nhl['ratio_nba'],nba_nhl['ratio_nhl'])"
   ]
  },
  {
   "cell_type": "code",
   "execution_count": 99,
   "metadata": {},
   "outputs": [],
   "source": [
    "corr_matrix = round(corr_matrix, 3)"
   ]
  },
  {
   "cell_type": "code",
   "execution_count": 100,
   "metadata": {},
   "outputs": [
    {
     "data": {
      "text/html": [
       "<div>\n",
       "<style scoped>\n",
       "    .dataframe tbody tr th:only-of-type {\n",
       "        vertical-align: middle;\n",
       "    }\n",
       "\n",
       "    .dataframe tbody tr th {\n",
       "        vertical-align: top;\n",
       "    }\n",
       "\n",
       "    .dataframe thead th {\n",
       "        text-align: right;\n",
       "    }\n",
       "</style>\n",
       "<table border=\"1\" class=\"dataframe\">\n",
       "  <thead>\n",
       "    <tr style=\"text-align: right;\">\n",
       "      <th></th>\n",
       "      <th>NFL</th>\n",
       "      <th>NBA</th>\n",
       "      <th>NHL</th>\n",
       "      <th>MLB</th>\n",
       "    </tr>\n",
       "  </thead>\n",
       "  <tbody>\n",
       "    <tr>\n",
       "      <th>NFL</th>\n",
       "      <td>NaN</td>\n",
       "      <td>0.237</td>\n",
       "      <td>0.287</td>\n",
       "      <td>-0.050</td>\n",
       "    </tr>\n",
       "    <tr>\n",
       "      <th>NBA</th>\n",
       "      <td>0.237</td>\n",
       "      <td>NaN</td>\n",
       "      <td>0.759</td>\n",
       "      <td>0.325</td>\n",
       "    </tr>\n",
       "    <tr>\n",
       "      <th>NHL</th>\n",
       "      <td>0.287</td>\n",
       "      <td>0.759</td>\n",
       "      <td>NaN</td>\n",
       "      <td>0.419</td>\n",
       "    </tr>\n",
       "    <tr>\n",
       "      <th>MLB</th>\n",
       "      <td>-0.050</td>\n",
       "      <td>0.325</td>\n",
       "      <td>0.419</td>\n",
       "      <td>NaN</td>\n",
       "    </tr>\n",
       "  </tbody>\n",
       "</table>\n",
       "</div>"
      ],
      "text/plain": [
       "       NFL    NBA    NHL    MLB\n",
       "NFL    NaN  0.237  0.287 -0.050\n",
       "NBA  0.237    NaN  0.759  0.325\n",
       "NHL  0.287  0.759    NaN  0.419\n",
       "MLB -0.050  0.325  0.419    NaN"
      ]
     },
     "execution_count": 100,
     "metadata": {},
     "output_type": "execute_result"
    }
   ],
   "source": [
    "corr_matrix"
   ]
  },
  {
   "cell_type": "code",
   "execution_count": 101,
   "metadata": {},
   "outputs": [
    {
     "data": {
      "text/plain": [
       "'\\\\begin{tabular}{lrrrr}\\n & NFL & NBA & NHL & MLB \\\\\\\\\\nNFL & nan & 0.237000 & 0.287000 & -0.050000 \\\\\\\\\\nNBA & 0.237000 & nan & 0.759000 & 0.325000 \\\\\\\\\\nNHL & 0.287000 & 0.759000 & nan & 0.419000 \\\\\\\\\\nMLB & -0.050000 & 0.325000 & 0.419000 & nan \\\\\\\\\\n\\\\end{tabular}\\n'"
      ]
     },
     "execution_count": 101,
     "metadata": {},
     "output_type": "execute_result"
    }
   ],
   "source": [
    "corr_matrix.style.to_latex()"
   ]
  },
  {
   "cell_type": "code",
   "execution_count": 102,
   "metadata": {},
   "outputs": [],
   "source": [
    "corr_matrix.to_csv(\"../output/tables/corr_matrix.csv\")"
   ]
  }
 ],
 "metadata": {
  "interpreter": {
   "hash": "33541a670e8887513ebdf0f19cec6625b51694c5ef6b1c7e83282c54d5cd54e5"
  },
  "kernelspec": {
   "display_name": "Python 3 (ipykernel)",
   "language": "python",
   "name": "python3"
  },
  "language_info": {
   "codemirror_mode": {
    "name": "ipython",
    "version": 3
   },
   "file_extension": ".py",
   "mimetype": "text/x-python",
   "name": "python",
   "nbconvert_exporter": "python",
   "pygments_lexer": "ipython3",
   "version": "3.10.2"
  }
 },
 "nbformat": 4,
 "nbformat_minor": 4
}
