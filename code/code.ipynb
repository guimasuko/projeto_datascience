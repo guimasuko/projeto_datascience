{
 "cells": [
  {
   "cell_type": "markdown",
   "metadata": {},
   "source": [
    "## Pacotes\n"
   ]
  },
  {
   "cell_type": "code",
   "execution_count": null,
   "metadata": {},
   "outputs": [],
   "source": [
    "import pandas as pd\n",
    "import numpy as np\n",
    "import matplotlib.pyplot as plt\n",
    "import requests\n",
    "from bs4 import BeautifulSoup\n",
    "import scipy.stats as stats"
   ]
  },
  {
   "cell_type": "code",
   "execution_count": 657,
   "metadata": {},
   "outputs": [
    {
     "name": "stdout",
     "output_type": "stream",
     "text": [
      "Requirement already satisfied: Jinja2 in c:\\users\\usuario\\appdata\\local\\programs\\python\\python310\\lib\\site-packages (3.0.3)Note: you may need to restart the kernel to use updated packages.\n",
      "\n",
      "Requirement already satisfied: MarkupSafe>=2.0 in c:\\users\\usuario\\appdata\\local\\programs\\python\\python310\\lib\\site-packages (from Jinja2) (2.1.0)\n"
     ]
    }
   ],
   "source": [
    "pip install Jinja2"
   ]
  },
  {
   "cell_type": "markdown",
   "metadata": {},
   "source": [
    "## Dados"
   ]
  },
  {
   "cell_type": "markdown",
   "metadata": {},
   "source": [
    "### Cidades\n",
    "Dados das cidades encontrados em: https://en.wikipedia.org/wiki/List_of_American_and_Canadian_cities_by_number_of_major_professional_sports_franchises"
   ]
  },
  {
   "cell_type": "code",
   "execution_count": 658,
   "metadata": {},
   "outputs": [
    {
     "name": "stdout",
     "output_type": "stream",
     "text": [
      "200\n"
     ]
    }
   ],
   "source": [
    "# pegando url da página onde se encontra a tabela de interesse\n",
    "url = \"https://en.wikipedia.org/wiki/List_of_American_and_Canadian_cities_by_number_of_major_professional_sports_franchises\"\n",
    "response = requests.get(url)\n",
    "print(response.status_code)"
   ]
  },
  {
   "cell_type": "code",
   "execution_count": 659,
   "metadata": {},
   "outputs": [],
   "source": [
    "# Transforma a página em texto html\n",
    "soup = BeautifulSoup(response.text, 'html.parser')"
   ]
  },
  {
   "cell_type": "markdown",
   "metadata": {},
   "source": [
    "para encontrar a tabela, utilize o inspect na página\n",
    "\n",
    "\n",
    "![](../input/table_class.jpg)"
   ]
  },
  {
   "cell_type": "code",
   "execution_count": 660,
   "metadata": {},
   "outputs": [],
   "source": [
    "# Encontra e traz apenas o texto html referente a tabela de interesse\n",
    "table_data = soup.find('table', {'class': \"wikitable\"})"
   ]
  },
  {
   "cell_type": "code",
   "execution_count": 661,
   "metadata": {},
   "outputs": [],
   "source": [
    "# criando uma lista com a tabela\n",
    "lista=pd.read_html(str(table_data))"
   ]
  },
  {
   "cell_type": "code",
   "execution_count": 662,
   "metadata": {},
   "outputs": [],
   "source": [
    "# convertendo a lista para dataframe\n",
    "cities=pd.DataFrame(lista[0])"
   ]
  },
  {
   "cell_type": "code",
   "execution_count": 663,
   "metadata": {},
   "outputs": [],
   "source": [
    "# limpeza de dados cities (retirando a última linha e mantendo apenas as colunas importantes)\n",
    "cities=cities.iloc[:-1,[0,3,5,6,7,8]]"
   ]
  },
  {
   "cell_type": "code",
   "execution_count": 664,
   "metadata": {},
   "outputs": [],
   "source": [
    "# renomeando coluna\n",
    "cities.rename(columns={'Population (2016 est.)[8]': 'Population_2016'}, inplace=True)"
   ]
  },
  {
   "cell_type": "code",
   "execution_count": 665,
   "metadata": {},
   "outputs": [],
   "source": [
    "# transformando coluna de população em númerica\n",
    "cities['Population_2016'] = pd.to_numeric(cities['Population_2016'])"
   ]
  },
  {
   "cell_type": "code",
   "execution_count": 666,
   "metadata": {},
   "outputs": [],
   "source": [
    "# baixando dados em csv\n",
    "cities.to_csv(\"../output/data/cities.csv\")"
   ]
  },
  {
   "cell_type": "code",
   "execution_count": 667,
   "metadata": {},
   "outputs": [],
   "source": [
    "# mantendo apenas as colunas necessárias\n",
    "cities = cities[['Metropolitan area', 'Population_2016']]"
   ]
  },
  {
   "cell_type": "code",
   "execution_count": 668,
   "metadata": {},
   "outputs": [
    {
     "data": {
      "text/html": [
       "<div>\n",
       "<style scoped>\n",
       "    .dataframe tbody tr th:only-of-type {\n",
       "        vertical-align: middle;\n",
       "    }\n",
       "\n",
       "    .dataframe tbody tr th {\n",
       "        vertical-align: top;\n",
       "    }\n",
       "\n",
       "    .dataframe thead th {\n",
       "        text-align: right;\n",
       "    }\n",
       "</style>\n",
       "<table border=\"1\" class=\"dataframe\">\n",
       "  <thead>\n",
       "    <tr style=\"text-align: right;\">\n",
       "      <th></th>\n",
       "      <th>Metropolitan area</th>\n",
       "      <th>Population_2016</th>\n",
       "    </tr>\n",
       "  </thead>\n",
       "  <tbody>\n",
       "    <tr>\n",
       "      <th>0</th>\n",
       "      <td>New York City</td>\n",
       "      <td>20153634</td>\n",
       "    </tr>\n",
       "    <tr>\n",
       "      <th>1</th>\n",
       "      <td>Los Angeles</td>\n",
       "      <td>13310447</td>\n",
       "    </tr>\n",
       "    <tr>\n",
       "      <th>2</th>\n",
       "      <td>Chicago</td>\n",
       "      <td>9512999</td>\n",
       "    </tr>\n",
       "    <tr>\n",
       "      <th>3</th>\n",
       "      <td>San Francisco Bay Area</td>\n",
       "      <td>6657982</td>\n",
       "    </tr>\n",
       "    <tr>\n",
       "      <th>4</th>\n",
       "      <td>Dallas–Fort Worth</td>\n",
       "      <td>7233323</td>\n",
       "    </tr>\n",
       "    <tr>\n",
       "      <th>5</th>\n",
       "      <td>Washington, D.C.</td>\n",
       "      <td>6131977</td>\n",
       "    </tr>\n",
       "    <tr>\n",
       "      <th>6</th>\n",
       "      <td>Philadelphia</td>\n",
       "      <td>6070500</td>\n",
       "    </tr>\n",
       "    <tr>\n",
       "      <th>7</th>\n",
       "      <td>Miami–Fort Lauderdale</td>\n",
       "      <td>6066387</td>\n",
       "    </tr>\n",
       "    <tr>\n",
       "      <th>8</th>\n",
       "      <td>Boston</td>\n",
       "      <td>4794447</td>\n",
       "    </tr>\n",
       "    <tr>\n",
       "      <th>9</th>\n",
       "      <td>Minneapolis–Saint Paul</td>\n",
       "      <td>3551036</td>\n",
       "    </tr>\n",
       "    <tr>\n",
       "      <th>10</th>\n",
       "      <td>Denver</td>\n",
       "      <td>2853077</td>\n",
       "    </tr>\n",
       "    <tr>\n",
       "      <th>11</th>\n",
       "      <td>Phoenix</td>\n",
       "      <td>4661537</td>\n",
       "    </tr>\n",
       "    <tr>\n",
       "      <th>12</th>\n",
       "      <td>Detroit</td>\n",
       "      <td>4297617</td>\n",
       "    </tr>\n",
       "    <tr>\n",
       "      <th>13</th>\n",
       "      <td>Toronto</td>\n",
       "      <td>5928040</td>\n",
       "    </tr>\n",
       "    <tr>\n",
       "      <th>14</th>\n",
       "      <td>Houston</td>\n",
       "      <td>6772470</td>\n",
       "    </tr>\n",
       "    <tr>\n",
       "      <th>15</th>\n",
       "      <td>Atlanta</td>\n",
       "      <td>5789700</td>\n",
       "    </tr>\n",
       "    <tr>\n",
       "      <th>16</th>\n",
       "      <td>Seattle</td>\n",
       "      <td>3798902</td>\n",
       "    </tr>\n",
       "    <tr>\n",
       "      <th>17</th>\n",
       "      <td>Tampa Bay Area</td>\n",
       "      <td>3032171</td>\n",
       "    </tr>\n",
       "    <tr>\n",
       "      <th>18</th>\n",
       "      <td>Pittsburgh</td>\n",
       "      <td>2342299</td>\n",
       "    </tr>\n",
       "    <tr>\n",
       "      <th>19</th>\n",
       "      <td>Cleveland</td>\n",
       "      <td>2055612</td>\n",
       "    </tr>\n",
       "    <tr>\n",
       "      <th>20</th>\n",
       "      <td>Cincinnati</td>\n",
       "      <td>2165139</td>\n",
       "    </tr>\n",
       "    <tr>\n",
       "      <th>21</th>\n",
       "      <td>Kansas City</td>\n",
       "      <td>2104509</td>\n",
       "    </tr>\n",
       "    <tr>\n",
       "      <th>22</th>\n",
       "      <td>Nashville</td>\n",
       "      <td>1865298</td>\n",
       "    </tr>\n",
       "    <tr>\n",
       "      <th>23</th>\n",
       "      <td>Charlotte</td>\n",
       "      <td>2474314</td>\n",
       "    </tr>\n",
       "    <tr>\n",
       "      <th>24</th>\n",
       "      <td>St. Louis</td>\n",
       "      <td>2807002</td>\n",
       "    </tr>\n",
       "    <tr>\n",
       "      <th>25</th>\n",
       "      <td>Baltimore</td>\n",
       "      <td>2798886</td>\n",
       "    </tr>\n",
       "    <tr>\n",
       "      <th>26</th>\n",
       "      <td>Las Vegas</td>\n",
       "      <td>2155664</td>\n",
       "    </tr>\n",
       "    <tr>\n",
       "      <th>27</th>\n",
       "      <td>Indianapolis</td>\n",
       "      <td>2004230</td>\n",
       "    </tr>\n",
       "    <tr>\n",
       "      <th>28</th>\n",
       "      <td>Milwaukee</td>\n",
       "      <td>1572482</td>\n",
       "    </tr>\n",
       "    <tr>\n",
       "      <th>29</th>\n",
       "      <td>New Orleans</td>\n",
       "      <td>1268883</td>\n",
       "    </tr>\n",
       "    <tr>\n",
       "      <th>30</th>\n",
       "      <td>Buffalo</td>\n",
       "      <td>1132804</td>\n",
       "    </tr>\n",
       "    <tr>\n",
       "      <th>31</th>\n",
       "      <td>Montreal</td>\n",
       "      <td>4098927</td>\n",
       "    </tr>\n",
       "    <tr>\n",
       "      <th>32</th>\n",
       "      <td>Vancouver</td>\n",
       "      <td>2463431</td>\n",
       "    </tr>\n",
       "    <tr>\n",
       "      <th>33</th>\n",
       "      <td>Orlando</td>\n",
       "      <td>2441257</td>\n",
       "    </tr>\n",
       "    <tr>\n",
       "      <th>34</th>\n",
       "      <td>Portland</td>\n",
       "      <td>2424955</td>\n",
       "    </tr>\n",
       "    <tr>\n",
       "      <th>35</th>\n",
       "      <td>Columbus</td>\n",
       "      <td>2041520</td>\n",
       "    </tr>\n",
       "    <tr>\n",
       "      <th>36</th>\n",
       "      <td>Calgary</td>\n",
       "      <td>1392609</td>\n",
       "    </tr>\n",
       "    <tr>\n",
       "      <th>37</th>\n",
       "      <td>Ottawa</td>\n",
       "      <td>1323783</td>\n",
       "    </tr>\n",
       "    <tr>\n",
       "      <th>38</th>\n",
       "      <td>Edmonton</td>\n",
       "      <td>1321426</td>\n",
       "    </tr>\n",
       "    <tr>\n",
       "      <th>39</th>\n",
       "      <td>Salt Lake City</td>\n",
       "      <td>1186187</td>\n",
       "    </tr>\n",
       "    <tr>\n",
       "      <th>40</th>\n",
       "      <td>Winnipeg</td>\n",
       "      <td>778489</td>\n",
       "    </tr>\n",
       "    <tr>\n",
       "      <th>41</th>\n",
       "      <td>San Diego</td>\n",
       "      <td>3317749</td>\n",
       "    </tr>\n",
       "    <tr>\n",
       "      <th>42</th>\n",
       "      <td>San Antonio</td>\n",
       "      <td>2429609</td>\n",
       "    </tr>\n",
       "    <tr>\n",
       "      <th>43</th>\n",
       "      <td>Sacramento</td>\n",
       "      <td>2296418</td>\n",
       "    </tr>\n",
       "    <tr>\n",
       "      <th>44</th>\n",
       "      <td>Jacksonville</td>\n",
       "      <td>1478212</td>\n",
       "    </tr>\n",
       "    <tr>\n",
       "      <th>45</th>\n",
       "      <td>Oklahoma City</td>\n",
       "      <td>1373211</td>\n",
       "    </tr>\n",
       "    <tr>\n",
       "      <th>46</th>\n",
       "      <td>Memphis</td>\n",
       "      <td>1342842</td>\n",
       "    </tr>\n",
       "    <tr>\n",
       "      <th>47</th>\n",
       "      <td>Raleigh</td>\n",
       "      <td>1302946</td>\n",
       "    </tr>\n",
       "    <tr>\n",
       "      <th>48</th>\n",
       "      <td>Green Bay</td>\n",
       "      <td>318236</td>\n",
       "    </tr>\n",
       "    <tr>\n",
       "      <th>49</th>\n",
       "      <td>Austin</td>\n",
       "      <td>2227083</td>\n",
       "    </tr>\n",
       "    <tr>\n",
       "      <th>50</th>\n",
       "      <td>Hamilton</td>\n",
       "      <td>747545</td>\n",
       "    </tr>\n",
       "    <tr>\n",
       "      <th>51</th>\n",
       "      <td>Regina</td>\n",
       "      <td>236481</td>\n",
       "    </tr>\n",
       "  </tbody>\n",
       "</table>\n",
       "</div>"
      ],
      "text/plain": [
       "         Metropolitan area  Population_2016\n",
       "0            New York City         20153634\n",
       "1              Los Angeles         13310447\n",
       "2                  Chicago          9512999\n",
       "3   San Francisco Bay Area          6657982\n",
       "4        Dallas–Fort Worth          7233323\n",
       "5         Washington, D.C.          6131977\n",
       "6             Philadelphia          6070500\n",
       "7    Miami–Fort Lauderdale          6066387\n",
       "8                   Boston          4794447\n",
       "9   Minneapolis–Saint Paul          3551036\n",
       "10                  Denver          2853077\n",
       "11                 Phoenix          4661537\n",
       "12                 Detroit          4297617\n",
       "13                 Toronto          5928040\n",
       "14                 Houston          6772470\n",
       "15                 Atlanta          5789700\n",
       "16                 Seattle          3798902\n",
       "17          Tampa Bay Area          3032171\n",
       "18              Pittsburgh          2342299\n",
       "19               Cleveland          2055612\n",
       "20              Cincinnati          2165139\n",
       "21             Kansas City          2104509\n",
       "22               Nashville          1865298\n",
       "23               Charlotte          2474314\n",
       "24               St. Louis          2807002\n",
       "25               Baltimore          2798886\n",
       "26               Las Vegas          2155664\n",
       "27            Indianapolis          2004230\n",
       "28               Milwaukee          1572482\n",
       "29             New Orleans          1268883\n",
       "30                 Buffalo          1132804\n",
       "31                Montreal          4098927\n",
       "32               Vancouver          2463431\n",
       "33                 Orlando          2441257\n",
       "34                Portland          2424955\n",
       "35                Columbus          2041520\n",
       "36                 Calgary          1392609\n",
       "37                  Ottawa          1323783\n",
       "38                Edmonton          1321426\n",
       "39          Salt Lake City          1186187\n",
       "40                Winnipeg           778489\n",
       "41               San Diego          3317749\n",
       "42             San Antonio          2429609\n",
       "43              Sacramento          2296418\n",
       "44            Jacksonville          1478212\n",
       "45           Oklahoma City          1373211\n",
       "46                 Memphis          1342842\n",
       "47                 Raleigh          1302946\n",
       "48               Green Bay           318236\n",
       "49                  Austin          2227083\n",
       "50                Hamilton           747545\n",
       "51                  Regina           236481"
      ]
     },
     "execution_count": 668,
     "metadata": {},
     "output_type": "execute_result"
    }
   ],
   "source": [
    "cities"
   ]
  },
  {
   "cell_type": "code",
   "execution_count": 669,
   "metadata": {},
   "outputs": [
    {
     "ename": "NameError",
     "evalue": "name 'geocoder' is not defined",
     "output_type": "error",
     "traceback": [
      "\u001b[1;31m---------------------------------------------------------------------------\u001b[0m",
      "\u001b[1;31mNameError\u001b[0m                                 Traceback (most recent call last)",
      "\u001b[1;32mc:\\Users\\Usuario\\git\\projeto_datascience\\code\\code.ipynb Cell 18'\u001b[0m in \u001b[0;36m<module>\u001b[1;34m\u001b[0m\n\u001b[0;32m      <a href='vscode-notebook-cell:/c%3A/Users/Usuario/git/projeto_datascience/code/code.ipynb#ch0000153?line=1'>2</a>\u001b[0m State \u001b[39m=\u001b[39m \u001b[39m'\u001b[39m\u001b[39mNew York\u001b[39m\u001b[39m'\u001b[39m       \n\u001b[0;32m      <a href='vscode-notebook-cell:/c%3A/Users/Usuario/git/projeto_datascience/code/code.ipynb#ch0000153?line=2'>3</a>\u001b[0m query \u001b[39m=\u001b[39m \u001b[39mstr\u001b[39m(City)\u001b[39m+\u001b[39m\u001b[39m'\u001b[39m\u001b[39m,\u001b[39m\u001b[39m'\u001b[39m\u001b[39m+\u001b[39m\u001b[39mstr\u001b[39m(State)\n\u001b[1;32m----> <a href='vscode-notebook-cell:/c%3A/Users/Usuario/git/projeto_datascience/code/code.ipynb#ch0000153?line=4'>5</a>\u001b[0m results \u001b[39m=\u001b[39m geocoder\u001b[39m.\u001b[39mgeocode(query)   \n\u001b[0;32m      <a href='vscode-notebook-cell:/c%3A/Users/Usuario/git/projeto_datascience/code/code.ipynb#ch0000153?line=5'>6</a>\u001b[0m lat \u001b[39m=\u001b[39m results[\u001b[39m0\u001b[39m][\u001b[39m'\u001b[39m\u001b[39mgeometry\u001b[39m\u001b[39m'\u001b[39m][\u001b[39m'\u001b[39m\u001b[39mlat\u001b[39m\u001b[39m'\u001b[39m]\n\u001b[0;32m      <a href='vscode-notebook-cell:/c%3A/Users/Usuario/git/projeto_datascience/code/code.ipynb#ch0000153?line=6'>7</a>\u001b[0m long \u001b[39m=\u001b[39m results[\u001b[39m0\u001b[39m][\u001b[39m'\u001b[39m\u001b[39mgeometry\u001b[39m\u001b[39m'\u001b[39m][\u001b[39m'\u001b[39m\u001b[39mlng\u001b[39m\u001b[39m'\u001b[39m]\n",
      "\u001b[1;31mNameError\u001b[0m: name 'geocoder' is not defined"
     ]
    }
   ],
   "source": [
    "City = 'New York City'\t\n",
    "State = 'New York'       \n",
    "query = str(City)+','+str(State)\n",
    "\n",
    "results = geocoder.geocode(query)   \n",
    "lat = results[0]['geometry']['lat']\n",
    "long = results[0]['geometry']['lng']\n",
    "\n",
    "list_lat.append(lat)\n",
    "list_long.append(long)"
   ]
  },
  {
   "cell_type": "code",
   "execution_count": null,
   "metadata": {},
   "outputs": [],
   "source": [
    "from geopy.geocoders import Nominatim"
   ]
  },
  {
   "cell_type": "code",
   "execution_count": null,
   "metadata": {},
   "outputs": [],
   "source": [
    "geolocator = Nominatim(user_agent=\"geoapiExercises\")"
   ]
  },
  {
   "cell_type": "code",
   "execution_count": null,
   "metadata": {},
   "outputs": [
    {
     "data": {
      "text/plain": [
       "<AxesSubplot:title={'center':'População por Área Metropolitana 2016'}, ylabel='Área Metropolitana'>"
      ]
     },
     "execution_count": 619,
     "metadata": {},
     "output_type": "execute_result"
    },
    {
     "data": {
      "image/png": "[encoded data removed]",
      "text/plain": [
       "<Figure size 2160x864 with 1 Axes>"
      ]
     },
     "metadata": {
      "needs_background": "light"
     },
     "output_type": "display_data"
    }
   ],
   "source": [
    "cities.plot(\n",
    "    x = 'Metropolitan area',\n",
    "    y = 'Population_2016', \n",
    "    kind='barh', \n",
    "    xlabel='Área Metropolitana', \n",
    "    ylabel=\"População (2016)\", \n",
    "    title=\"População por Área Metropolitana 2016\", \n",
    "    color='darkgrey', \n",
    "    figsize=(30,12)\n",
    "    )\n"
   ]
  },
  {
   "cell_type": "markdown",
   "metadata": {},
   "source": [
    "### NHL\n",
    "Dados da NHL encontrados em: https://www.hockey-reference.com/leagues/NHL_2018.html"
   ]
  },
  {
   "cell_type": "code",
   "execution_count": null,
   "metadata": {},
   "outputs": [],
   "source": [
    "# lendo url\n",
    "url = \"https://www.hockey-reference.com/leagues/NHL_2018.html\"\n",
    "nhl = pd.read_html(url, header=0)"
   ]
  },
  {
   "cell_type": "code",
   "execution_count": null,
   "metadata": {},
   "outputs": [],
   "source": [
    "# criando dataframes\n",
    "nhl_0 = nhl[0]\n",
    "nhl_1 = nhl[1]"
   ]
  },
  {
   "cell_type": "code",
   "execution_count": null,
   "metadata": {},
   "outputs": [],
   "source": [
    "# juntando os dataframes\n",
    "frames = [nhl_0, nhl_1]\n",
    "nhl_df = pd.concat(frames)"
   ]
  },
  {
   "cell_type": "code",
   "execution_count": null,
   "metadata": {},
   "outputs": [],
   "source": [
    "# renomeando coluna\n",
    "nhl_df.rename(columns={'Unnamed: 0': 'Teams'}, inplace=True)"
   ]
  },
  {
   "cell_type": "code",
   "execution_count": null,
   "metadata": {},
   "outputs": [],
   "source": [
    "# função que retira o * do final de alguns nomes de times\n",
    "nhl_df['Teams'] = nhl_df['Teams'].map(lambda x: x.rstrip('*'))"
   ]
  },
  {
   "cell_type": "code",
   "execution_count": null,
   "metadata": {},
   "outputs": [],
   "source": [
    "# dicionário relacionando nome do time ao nome da região\n",
    "dict_city = {\n",
    "    'Tampa Bay Lightning': 'Tampa Bay Area',\n",
    "    'Boston Bruins': 'Boston',\n",
    "    'Toronto Maple Leafs': 'Toronto',\n",
    "    'Florida Panthers': 'Miami–Fort Lauderdale',\n",
    "    'Detroit Red Wings': 'Detroit',\n",
    "    'Montreal Canadiens': 'Montreal',\n",
    "    'Ottawa Senators': 'Ottawa',\n",
    "    'Buffalo Sabres': 'Buffalo',\n",
    "    'Washington Capitals': 'Washington, D.C.',\n",
    "    'Pittsburgh Penguins': 'Pittsburgh',\n",
    "    'Philadelphia Flyers': 'Philadelphia',\n",
    "    'Columbus Blue Jackets': 'Columbus',\n",
    "    'New Jersey Devils': 'New York City',\n",
    "    'Carolina Hurricanes': 'Raleigh',\n",
    "    'New York Islanders': 'New York City',\n",
    "    'New York Rangers': 'New York City',\n",
    "    'Nashville Predators': 'Nashville',\n",
    "    'Winnipeg Jets': 'Winnipeg',\n",
    "    'Minnesota Wild': 'Minneapolis–Saint Paul',\n",
    "    'Colorado Avalanche': 'Denver',\n",
    "    'St. Louis Blues': 'St. Louis',\n",
    "    'Dallas Stars': 'Dallas–Fort Worth',\n",
    "    'Chicago Blackhawks': 'Chicago',\n",
    "    'Vegas Golden Knights': 'Las Vegas',\n",
    "    'Anaheim Ducks': 'Los Angeles',\n",
    "    'San Jose Sharks': 'San Francisco Bay Area',\n",
    "    'Los Angeles Kings': 'Los Angeles',\n",
    "    'Calgary Flames': 'Calgary',\n",
    "    'Edmonton Oilers': 'Edmonton',\n",
    "    'Vancouver Canucks': 'Vancouver',\n",
    "    'Arizona Coyotes': 'Phoenix'\n",
    "}"
   ]
  },
  {
   "cell_type": "code",
   "execution_count": null,
   "metadata": {},
   "outputs": [],
   "source": [
    "# função que adiciona o dicionário como coluna no dataframe\n",
    "nhl_df['Metropolitan area'] = nhl_df['Teams'].map(dict_city)"
   ]
  },
  {
   "cell_type": "code",
   "execution_count": null,
   "metadata": {},
   "outputs": [],
   "source": [
    "# resetando o index\n",
    "nhl_df = nhl_df.reset_index(drop=True)"
   ]
  },
  {
   "cell_type": "code",
   "execution_count": null,
   "metadata": {},
   "outputs": [],
   "source": [
    "# retirando linhas e resetando o índice\n",
    "nhl_df = nhl_df.drop([0, 9, 18, 26]).reset_index(drop=True)"
   ]
  },
  {
   "cell_type": "code",
   "execution_count": null,
   "metadata": {},
   "outputs": [],
   "source": [
    "# tornando colunas numéricas para fazer cálculo da razão\n",
    "nhl_df['W'] = pd.to_numeric(nhl_df['W'])\n",
    "nhl_df['L'] = pd.to_numeric(nhl_df['L'])"
   ]
  },
  {
   "cell_type": "code",
   "execution_count": null,
   "metadata": {},
   "outputs": [],
   "source": [
    "# relação vitórias/(vitórias + derrotas)\n",
    "nhl_df['ratio'] = nhl_df['W']/(nhl_df['W'] + nhl_df['L'])"
   ]
  },
  {
   "cell_type": "code",
   "execution_count": null,
   "metadata": {},
   "outputs": [],
   "source": [
    "# ordenando os valores pela razão performance\n",
    "nhl_df = nhl_df.sort_values(by='ratio', ascending=False)"
   ]
  },
  {
   "cell_type": "code",
   "execution_count": null,
   "metadata": {},
   "outputs": [
    {
     "data": {
      "image/png": "[encoded data removed]",
      "text/plain": [
       "<Figure size 1296x432 with 1 Axes>"
      ]
     },
     "metadata": {
      "needs_background": "light"
     },
     "output_type": "display_data"
    }
   ],
   "source": [
    "nhl_df.plot(\n",
    "    x = 'Teams',\n",
    "    y = 'ratio', \n",
    "    kind='bar', \n",
    "    xlabel='Times', \n",
    "    ylabel=\"Razão Vitórias/Jogos\", \n",
    "    title=\"Performance Temporada Regular National Hockey League (NHL) 2018\", \n",
    "    color='darkgrey', \n",
    "    figsize=(18,6)\n",
    "    )\n",
    "\n",
    "y = nhl_df['ratio'].to_list()\n",
    "\n",
    "for index, value in enumerate(y):\n",
    "    plt.text(index - 0.30, value + 0.008, str(round(value, 2)))"
   ]
  },
  {
   "cell_type": "code",
   "execution_count": null,
   "metadata": {},
   "outputs": [],
   "source": [
    "# baixando dados em csv\n",
    "nhl_df.to_csv(\"../output/data/nhl.csv\")"
   ]
  },
  {
   "cell_type": "code",
   "execution_count": null,
   "metadata": {},
   "outputs": [],
   "source": [
    "# mantendo apenas as colunas necessárias\n",
    "nhl_df = nhl_df[['Teams', 'Metropolitan area', 'ratio']]"
   ]
  },
  {
   "cell_type": "markdown",
   "metadata": {},
   "source": [
    "### NBA\n",
    "Dados da NBA encontrados em: https://www.basketball-reference.com/leagues/NBA_2018.html"
   ]
  },
  {
   "cell_type": "code",
   "execution_count": null,
   "metadata": {},
   "outputs": [],
   "source": [
    "# lendo url\n",
    "url = \"https://www.basketball-reference.com/leagues/NBA_2018.html\"\n",
    "nba = pd.read_html(url, header=0)"
   ]
  },
  {
   "cell_type": "code",
   "execution_count": null,
   "metadata": {},
   "outputs": [],
   "source": [
    "# criando os dataframes\n",
    "nba_0 = nba[0]\n",
    "nba_1 = nba[1]"
   ]
  },
  {
   "cell_type": "code",
   "execution_count": null,
   "metadata": {},
   "outputs": [],
   "source": [
    "# renomeando os dataframes\n",
    "nba_0.rename(columns={'Eastern Conference': 'Teams'}, inplace=True)\n",
    "nba_1.rename(columns={'Western Conference': 'Teams'}, inplace=True)"
   ]
  },
  {
   "cell_type": "code",
   "execution_count": null,
   "metadata": {},
   "outputs": [],
   "source": [
    "# juntando os dataframes\n",
    "frames = [nba_0, nba_1]\n",
    "nba_df = pd.concat(frames)"
   ]
  },
  {
   "cell_type": "code",
   "execution_count": null,
   "metadata": {},
   "outputs": [],
   "source": [
    "# função que retira o '*' da coluna Teams\n",
    "nba_df['Teams'] = nba_df['Teams'].map(lambda x: x.rstrip('*\\xa0'))"
   ]
  },
  {
   "cell_type": "code",
   "execution_count": null,
   "metadata": {},
   "outputs": [],
   "source": [
    "# resetando o index\n",
    "nba_df = nba_df.reset_index(drop=True)"
   ]
  },
  {
   "cell_type": "code",
   "execution_count": null,
   "metadata": {},
   "outputs": [],
   "source": [
    "# dicionário relacionando nome do time ao nome da região\n",
    "dict_city = {\n",
    "    'Toronto Raptors': 'Toronto',\n",
    "    'Boston Celtics': 'Boston',\n",
    "    'Philadelphia 76ers': 'Philadelphia',\n",
    "    'Cleveland Cavaliers': 'Cleveland',\n",
    "    'Indiana Pacers': 'Indianapolis',\n",
    "    'Miami Heat': 'Miami–Fort Lauderdale',\n",
    "    'Milwaukee Bucks': 'Milwaukee',\n",
    "    'Washington Wizards': 'Washington, D.C.',\n",
    "    'Detroit Pistons': 'Detroit',\n",
    "    'Charlotte Hornets': 'Charlotte',\n",
    "    'New York Knicks': 'New York City',\n",
    "    'Brooklyn Nets': 'New York City',\n",
    "    'Chicago Bulls': 'Chicago',\n",
    "    'Orlando Magic': 'Orlando',\n",
    "    'Atlanta Hawks': 'Atlanta',\n",
    "    'Houston Rockets': 'Houston',\n",
    "    'Golden State Warriors': 'San Francisco Bay Area',\n",
    "    'Portland Trail Blazers': 'Portland',\n",
    "    'Oklahoma City Thunder': 'Oklahoma City',\n",
    "    'Utah Jazz': 'Salt Lake City',\n",
    "    'New Orleans Pelicans': 'New Orleans',\n",
    "    'San Antonio Spurs': 'San Antonio',\n",
    "    'Minnesota Timberwolves': 'Minneapolis–Saint Paul',\n",
    "    'Denver Nuggets': 'Denver',\n",
    "    'Los Angeles Clippers': 'Los Angeles',\n",
    "    'Los Angeles Lakers': 'Los Angeles',\n",
    "    'Sacramento Kings': 'Sacramento',\n",
    "    'Dallas Mavericks': 'Dallas–Fort Worth',\n",
    "    'Memphis Grizzlies': 'Memphis',\n",
    "    'Phoenix Suns': 'Phoenix'\n",
    "}"
   ]
  },
  {
   "cell_type": "code",
   "execution_count": null,
   "metadata": {},
   "outputs": [],
   "source": [
    "# função que adiciona o dicionário como coluna no dataframe\n",
    "nba_df['Metropolitan area'] = nba_df['Teams'].map(dict_city)"
   ]
  },
  {
   "cell_type": "code",
   "execution_count": null,
   "metadata": {},
   "outputs": [],
   "source": [
    "# tornando colunas numéricas para fazer cálculo da razão\n",
    "nba_df['W'] = pd.to_numeric(nba_df['W'])\n",
    "nba_df['L'] = pd.to_numeric(nba_df['L'])"
   ]
  },
  {
   "cell_type": "code",
   "execution_count": null,
   "metadata": {},
   "outputs": [],
   "source": [
    "# relação vitórias/(vitórias + derrotas)\n",
    "nba_df['ratio'] = nba_df['W']/(nba_df['W'] + nba_df['L'])"
   ]
  },
  {
   "cell_type": "code",
   "execution_count": null,
   "metadata": {},
   "outputs": [],
   "source": [
    "# ordenando os valores pela razão performance\n",
    "nba_df = nba_df.sort_values(by='ratio', ascending=False)"
   ]
  },
  {
   "cell_type": "code",
   "execution_count": null,
   "metadata": {},
   "outputs": [
    {
     "data": {
      "image/png": "[encoded data removed]",
      "text/plain": [
       "<Figure size 1296x432 with 1 Axes>"
      ]
     },
     "metadata": {
      "needs_background": "light"
     },
     "output_type": "display_data"
    }
   ],
   "source": [
    "nba_df.plot(\n",
    "    x = 'Teams',\n",
    "    y = 'ratio', \n",
    "    kind='bar', \n",
    "    xlabel='Times', \n",
    "    ylabel=\"Razão Vitórias/Jogos\", \n",
    "    title=\"Performance Temporada Regular National Basketball Association (NBA) 2018\", \n",
    "    color='darkgrey', \n",
    "    figsize=(18,6)\n",
    "    )\n",
    "\n",
    "y = nba_df['ratio'].to_list()\n",
    "\n",
    "for index, value in enumerate(y):\n",
    "    plt.text(index - 0.30, value + 0.008, str(round(value, 2)))"
   ]
  },
  {
   "cell_type": "code",
   "execution_count": null,
   "metadata": {},
   "outputs": [],
   "source": [
    "# baixando dados em csv\n",
    "nba_df.to_csv(\"../output/data/nba.csv\")"
   ]
  },
  {
   "cell_type": "code",
   "execution_count": null,
   "metadata": {},
   "outputs": [],
   "source": [
    "# mantendo apenas as colunas necessárias\n",
    "nba_df = nba_df[['Teams', 'Metropolitan area', 'ratio']]"
   ]
  },
  {
   "cell_type": "markdown",
   "metadata": {},
   "source": [
    "### MLB\n",
    "Dados da MLB encontrados em: https://www.baseball-reference.com/leagues/majors/2018.shtml"
   ]
  },
  {
   "cell_type": "code",
   "execution_count": null,
   "metadata": {},
   "outputs": [],
   "source": [
    "# lendo url\n",
    "url = \"https://www.baseball-reference.com/leagues/majors/2018-standings.shtml\"\n",
    "mlb = pd.read_html(url, header=0)\n"
   ]
  },
  {
   "cell_type": "code",
   "execution_count": null,
   "metadata": {},
   "outputs": [],
   "source": [
    "# criando os dataframes\n",
    "mlb_0 = mlb[0]\n",
    "mlb_1 = mlb[1]\n",
    "mlb_2 = mlb[2]\n",
    "mlb_3 = mlb[3]\n",
    "mlb_4 = mlb[4]\n",
    "mlb_5 = mlb[5]"
   ]
  },
  {
   "cell_type": "code",
   "execution_count": null,
   "metadata": {},
   "outputs": [],
   "source": [
    "# juntando os dataframes\n",
    "frames = [mlb_0, mlb_1, mlb_2, mlb_3, mlb_4, mlb_5]\n",
    "mlb_df = pd.concat(frames)"
   ]
  },
  {
   "cell_type": "code",
   "execution_count": null,
   "metadata": {},
   "outputs": [],
   "source": [
    "# resetando o index\n",
    "mlb_df = mlb_df.reset_index(drop=True)"
   ]
  },
  {
   "cell_type": "code",
   "execution_count": null,
   "metadata": {},
   "outputs": [],
   "source": [
    "# renomeando a coluna do time\n",
    "mlb_df.rename(columns={'Tm': 'Teams'}, inplace=True)"
   ]
  },
  {
   "cell_type": "code",
   "execution_count": null,
   "metadata": {},
   "outputs": [],
   "source": [
    "# dicionário relacionando nome do time ao nome da região\n",
    "dict_city = {\n",
    "    'Boston Red Sox': 'Boston',\n",
    "    'New York Yankees': 'New York City',\n",
    "    'Tampa Bay Rays': 'Tampa Bay Area',\n",
    "    'Toronto Blue Jays': 'Toronto',\n",
    "    'Baltimore Orioles': 'Baltimore',\n",
    "    'Cleveland Indians': 'Cleveland',\n",
    "    'Minnesota Twins': 'Minneapolis–Saint Paul',\n",
    "    'Detroit Tigers': 'Detroit',\n",
    "    'Chicago White Sox': 'Chicago',\n",
    "    'Kansas City Royals': 'Kansas City',\n",
    "    'Houston Astros': 'Houston',\n",
    "    'Oakland Athletics': 'San Francisco Bay Area',\n",
    "    'Seattle Mariners': 'Seattle',\n",
    "    'Los Angeles Angels': 'Los Angeles',\n",
    "    'Texas Rangers': 'Dallas–Fort Worth',\n",
    "    'Atlanta Braves': 'Atlanta',\n",
    "    'Washington Nationals': 'Washington, D.C.',\n",
    "    'Philadelphia Phillies': 'Philadelphia',\n",
    "    'New York Mets': 'New York City',\n",
    "    'Miami Marlins': 'Miami–Fort Lauderdale',\n",
    "    'Milwaukee Brewers': 'Milwaukee',\n",
    "    'Chicago Cubs': 'Chicago',\n",
    "    'St. Louis Cardinals': 'St. Louis',\n",
    "    'Pittsburgh Pirates': 'Pittsburgh',\n",
    "    'Cincinnati Reds': 'Cincinnati',\n",
    "    'Los Angeles Dodgers': 'Los Angeles',\n",
    "    'Colorado Rockies': 'Denver',\n",
    "    'Arizona Diamondbacks': 'Phoenix',\n",
    "    'San Francisco Giants': 'San Francisco Bay Area',\n",
    "    'San Diego Padres': 'San Diego'\n",
    "}"
   ]
  },
  {
   "cell_type": "code",
   "execution_count": null,
   "metadata": {},
   "outputs": [],
   "source": [
    "# função que adiciona o dicionário como coluna no dataframe\n",
    "mlb_df['Metropolitan area'] = mlb_df['Teams'].map(dict_city)"
   ]
  },
  {
   "cell_type": "code",
   "execution_count": null,
   "metadata": {},
   "outputs": [],
   "source": [
    "# tornando colunas numéricas para fazer cálculo da razão\n",
    "mlb_df['W'] = pd.to_numeric(mlb_df['W'])\n",
    "mlb_df['L'] = pd.to_numeric(mlb_df['L'])"
   ]
  },
  {
   "cell_type": "code",
   "execution_count": null,
   "metadata": {},
   "outputs": [],
   "source": [
    "# relação vitórias/(vitórias + derrotas)\n",
    "mlb_df['ratio'] = mlb_df['W']/(mlb_df['W'] + mlb_df['L'])"
   ]
  },
  {
   "cell_type": "code",
   "execution_count": null,
   "metadata": {},
   "outputs": [],
   "source": [
    "# ordenando os valores pela razão performance\n",
    "mlb_df = mlb_df.sort_values(by='ratio', ascending=False)"
   ]
  },
  {
   "cell_type": "code",
   "execution_count": null,
   "metadata": {},
   "outputs": [
    {
     "data": {
      "image/png": "[encoded data removed]",
      "text/plain": [
       "<Figure size 1296x432 with 1 Axes>"
      ]
     },
     "metadata": {
      "needs_background": "light"
     },
     "output_type": "display_data"
    }
   ],
   "source": [
    "mlb_df.plot(\n",
    "    x = 'Teams',\n",
    "    y = 'ratio', \n",
    "    kind='bar', \n",
    "    xlabel='Times', \n",
    "    ylabel=\"Razão Vitórias/Jogos\", \n",
    "    title=\"Performance Temporada Regular Major League Baseball (MLB) 2018\", \n",
    "    color='darkgrey', \n",
    "    figsize=(18,6)\n",
    "    )\n",
    "\n",
    "y = mlb_df['ratio'].to_list()\n",
    "\n",
    "for index, value in enumerate(y):\n",
    "    plt.text(index - 0.30, value + 0.008, str(round(value, 2)))"
   ]
  },
  {
   "cell_type": "code",
   "execution_count": null,
   "metadata": {},
   "outputs": [],
   "source": [
    "# baixando dados em csv\n",
    "mlb_df.to_csv(\"../output/data/mlb.csv\")"
   ]
  },
  {
   "cell_type": "code",
   "execution_count": null,
   "metadata": {},
   "outputs": [],
   "source": [
    "# mantendo apenas as colunas necessárias\n",
    "mlb_df = mlb_df[['Teams', 'Metropolitan area', 'ratio']]"
   ]
  },
  {
   "cell_type": "markdown",
   "metadata": {},
   "source": [
    "### NFL\n",
    "Dados da NFL encontrados em: https://www.pro-football-reference.com/years/2018/"
   ]
  },
  {
   "cell_type": "code",
   "execution_count": null,
   "metadata": {},
   "outputs": [],
   "source": [
    "# lendo url\n",
    "url = \"https://www.pro-football-reference.com/years/2018/\"\n",
    "nfl = pd.read_html(url, header=0)"
   ]
  },
  {
   "cell_type": "code",
   "execution_count": null,
   "metadata": {},
   "outputs": [],
   "source": [
    "# criando os dataframes\n",
    "nfl_0 = nfl[0]\n",
    "nfl_1 = nfl[1]"
   ]
  },
  {
   "cell_type": "code",
   "execution_count": null,
   "metadata": {},
   "outputs": [],
   "source": [
    "# juntando os dataframes\n",
    "frames = [nfl_0, nfl_1]\n",
    "nfl_df = pd.concat(frames)"
   ]
  },
  {
   "cell_type": "code",
   "execution_count": null,
   "metadata": {},
   "outputs": [],
   "source": [
    "# resetando o index\n",
    "nfl_df = nfl_df.reset_index(drop=True)"
   ]
  },
  {
   "cell_type": "code",
   "execution_count": null,
   "metadata": {},
   "outputs": [],
   "source": [
    "# renomeando a coluna do time\n",
    "nfl_df.rename(columns={'Tm': 'Teams'}, inplace=True)"
   ]
  },
  {
   "cell_type": "code",
   "execution_count": null,
   "metadata": {},
   "outputs": [],
   "source": [
    "# função que retira o * e + do final de alguns nomes de times\n",
    "nfl_df['Teams'] = nfl_df['Teams'].map(lambda x: x.rstrip('*'))\n",
    "nfl_df['Teams'] = nfl_df['Teams'].map(lambda x: x.rstrip('+'))"
   ]
  },
  {
   "cell_type": "code",
   "execution_count": null,
   "metadata": {},
   "outputs": [],
   "source": [
    "# retirando linhas e resetando o índice\n",
    "nfl_df = nfl_df.drop([0, 5, 10, 15, 20, 25, 30, 35]).reset_index(drop=True)"
   ]
  },
  {
   "cell_type": "code",
   "execution_count": null,
   "metadata": {},
   "outputs": [],
   "source": [
    "# dicionário relacionando nome do time ao nome da região\n",
    "dict_city = {\n",
    "    'New England Patriots': 'Boston',\n",
    "    'Miami Dolphins': 'Miami–Fort Lauderdale',\n",
    "    'Buffalo Bills': 'Buffalo',\n",
    "    'New York Jets': 'New York City',\n",
    "    'Baltimore Ravens': 'Baltimore',\n",
    "    'Pittsburgh Steelers': 'Pittsburgh',\n",
    "    'Cleveland Browns': 'Cleveland',\n",
    "    'Cincinnati Bengals': 'Cincinnati',\n",
    "    'Houston Texans': 'Houston',\n",
    "    'Indianapolis Colts': 'Indianapolis',\n",
    "    'Tennessee Titans': 'Nashville',\n",
    "    'Jacksonville Jaguars': 'Jacksonville',\n",
    "    'Kansas City Chiefs': 'Kansas City',\n",
    "    'Los Angeles Chargers': 'Los Angeles',\n",
    "    'Denver Broncos': 'Denver',\n",
    "    'Oakland Raiders': 'San Francisco Bay Area',\n",
    "    'Dallas Cowboys': 'Dallas–Fort Worth',\n",
    "    'Philadelphia Eagles': 'Philadelphia',\n",
    "    'Washington Redskins': 'Washington, D.C.',\n",
    "    'New York Giants': 'New York City',\n",
    "    'Chicago Bears': 'Chicago',\n",
    "    'Minnesota Vikings': 'Minneapolis–Saint Paul',\n",
    "    'Green Bay Packers': 'Green Bay',\n",
    "    'Detroit Lions': 'Detroit',\n",
    "    'New Orleans Saints': 'New Orleans',\n",
    "    'Carolina Panthers': 'Charlotte',\n",
    "    'Atlanta Falcons': 'Atlanta',\n",
    "    'Tampa Bay Buccaneers': 'Tampa Bay Area',\n",
    "    'Los Angeles Rams': 'Los Angeles',\n",
    "    'Seattle Seahawks': 'Seattle',\n",
    "    'San Francisco 49ers': 'San Francisco Bay Area',\n",
    "    'Arizona Cardinals': 'Phoenix'\n",
    "}"
   ]
  },
  {
   "cell_type": "code",
   "execution_count": null,
   "metadata": {},
   "outputs": [],
   "source": [
    "# função que adiciona o dicionário como coluna no dataframe\n",
    "nfl_df['Metropolitan area'] = nfl_df['Teams'].map(dict_city)"
   ]
  },
  {
   "cell_type": "code",
   "execution_count": null,
   "metadata": {},
   "outputs": [],
   "source": [
    "# tornando colunas numéricas para fazer cálculo da razão\n",
    "nfl_df['W'] = pd.to_numeric(nfl_df['W'])\n",
    "nfl_df['L'] = pd.to_numeric(nfl_df['L'])"
   ]
  },
  {
   "cell_type": "code",
   "execution_count": null,
   "metadata": {},
   "outputs": [],
   "source": [
    "# relação vitórias/(vitórias + derrotas)\n",
    "nfl_df['ratio'] = nfl_df['W']/(nfl_df['W'] + nfl_df['L'])"
   ]
  },
  {
   "cell_type": "code",
   "execution_count": null,
   "metadata": {},
   "outputs": [],
   "source": [
    "# ordenando os valores pela razão performance\n",
    "nfl_df = nfl_df.sort_values(by='ratio', ascending=False)"
   ]
  },
  {
   "cell_type": "code",
   "execution_count": null,
   "metadata": {},
   "outputs": [
    {
     "data": {
      "image/png": "[encoded data removed]",
      "text/plain": [
       "<Figure size 1296x432 with 1 Axes>"
      ]
     },
     "metadata": {
      "needs_background": "light"
     },
     "output_type": "display_data"
    }
   ],
   "source": [
    "nfl_df.plot(\n",
    "    x = 'Teams',\n",
    "    y = 'ratio', \n",
    "    kind='bar', \n",
    "    xlabel='Times', \n",
    "    ylabel=\"Razão Vitórias/Jogos\", \n",
    "    title=\"Performance Temporada Regular National Football League (NFL) 2018\", \n",
    "    color='darkgrey', \n",
    "    figsize=(18,6)\n",
    "    )\n",
    "\n",
    "y = nfl_df['ratio'].to_list()\n",
    "\n",
    "for index, value in enumerate(y):\n",
    "    plt.text(index - 0.30, value + 0.008, str(round(value, 2)))"
   ]
  },
  {
   "cell_type": "code",
   "execution_count": null,
   "metadata": {},
   "outputs": [],
   "source": [
    "# baixando dados em csv\n",
    "nfl_df.to_csv(\"../output/data/nfl.csv\")"
   ]
  },
  {
   "cell_type": "code",
   "execution_count": null,
   "metadata": {},
   "outputs": [],
   "source": [
    "# mantendo apenas as colunas necessárias\n",
    "nfl_df = nfl_df[['Teams', 'Metropolitan area', 'ratio']]"
   ]
  },
  {
   "cell_type": "markdown",
   "metadata": {},
   "source": [
    "## Questões"
   ]
  },
  {
   "cell_type": "markdown",
   "metadata": {},
   "source": [
    "#### Correlação entre Razão Performance de NHL e População"
   ]
  },
  {
   "cell_type": "code",
   "execution_count": null,
   "metadata": {},
   "outputs": [],
   "source": [
    "# unindo os dataframes nhl_df e cities pela area metropolitana\n",
    "corr_nhl = pd.merge(nhl_df, cities, how = 'left', on = ['Metropolitan area'])"
   ]
  },
  {
   "cell_type": "code",
   "execution_count": null,
   "metadata": {},
   "outputs": [
    {
     "name": "stderr",
     "output_type": "stream",
     "text": [
      "C:\\Users\\Usuario\\AppData\\Local\\Temp\\ipykernel_11908\\274031992.py:2: FutureWarning: Indexing with multiple keys (implicitly converted to a tuple of keys) will be deprecated, use a list instead.\n",
      "  corr_nhl = corr_nhl.groupby(['Metropolitan area'])['ratio','Population_2016'].mean()\n"
     ]
    }
   ],
   "source": [
    "# tirando a média da razão de performance no caso de dois times pertencerem a mesma região\n",
    "corr_nhl = corr_nhl.groupby(['Metropolitan area'])['ratio','Population_2016'].mean()"
   ]
  },
  {
   "cell_type": "code",
   "execution_count": null,
   "metadata": {},
   "outputs": [],
   "source": [
    "# gerando listas\n",
    "population_by_region = corr_nhl['Population_2016'].tolist()\n",
    "ratio_by_region = corr_nhl['ratio'].tolist()"
   ]
  },
  {
   "cell_type": "code",
   "execution_count": null,
   "metadata": {},
   "outputs": [
    {
     "data": {
      "text/plain": [
       "0.012486162921209923"
      ]
     },
     "execution_count": 524,
     "metadata": {},
     "output_type": "execute_result"
    }
   ],
   "source": [
    "# tirando a correlação entre as duas listas\n",
    "stats.pearsonr(population_by_region, ratio_by_region)[0]"
   ]
  },
  {
   "cell_type": "markdown",
   "metadata": {},
   "source": [
    "#### Correlação entre Razão Performance de NBA e População"
   ]
  },
  {
   "cell_type": "code",
   "execution_count": null,
   "metadata": {},
   "outputs": [],
   "source": [
    "# unindo os dois dataframes\n",
    "corr_nba = pd.merge(nba_df, cities, how='left', on=['Metropolitan area'])"
   ]
  },
  {
   "cell_type": "code",
   "execution_count": null,
   "metadata": {},
   "outputs": [
    {
     "name": "stderr",
     "output_type": "stream",
     "text": [
      "C:\\Users\\Usuario\\AppData\\Local\\Temp\\ipykernel_11908\\728589221.py:2: FutureWarning: Indexing with multiple keys (implicitly converted to a tuple of keys) will be deprecated, use a list instead.\n",
      "  corr_nba = corr_nba.groupby('Metropolitan area')['ratio','Population_2016'].mean()\n"
     ]
    }
   ],
   "source": [
    "# tirando a média da razão de performance no caso de dois times pertencerem a mesma região\n",
    "corr_nba = corr_nba.groupby('Metropolitan area')['ratio','Population_2016'].mean()"
   ]
  },
  {
   "cell_type": "code",
   "execution_count": null,
   "metadata": {},
   "outputs": [],
   "source": [
    "# gerando listas\n",
    "population_by_region = corr_nba['Population_2016'].tolist()\n",
    "ratio_by_region = corr_nba['ratio'].tolist()"
   ]
  },
  {
   "cell_type": "code",
   "execution_count": null,
   "metadata": {},
   "outputs": [
    {
     "data": {
      "text/plain": [
       "-0.17657160252844623"
      ]
     },
     "execution_count": 528,
     "metadata": {},
     "output_type": "execute_result"
    }
   ],
   "source": [
    "# tirando a correlação entre as duas listas\n",
    "stats.pearsonr(population_by_region, ratio_by_region)[0]"
   ]
  },
  {
   "cell_type": "markdown",
   "metadata": {},
   "source": [
    "#### Correlação entre Razão Performance de MLB e População"
   ]
  },
  {
   "cell_type": "code",
   "execution_count": null,
   "metadata": {},
   "outputs": [],
   "source": [
    "# unindo os dois dataframes\n",
    "corr_mlb = pd.merge(mlb_df, cities, how='left', on=['Metropolitan area'])"
   ]
  },
  {
   "cell_type": "code",
   "execution_count": null,
   "metadata": {},
   "outputs": [
    {
     "name": "stderr",
     "output_type": "stream",
     "text": [
      "C:\\Users\\Usuario\\AppData\\Local\\Temp\\ipykernel_11908\\2111711154.py:2: FutureWarning: Indexing with multiple keys (implicitly converted to a tuple of keys) will be deprecated, use a list instead.\n",
      "  corr_mlb = corr_mlb.groupby('Metropolitan area')['ratio','Population_2016'].mean()\n"
     ]
    }
   ],
   "source": [
    "# tirando a média da razão de performance no caso de dois times pertencerem a mesma região\n",
    "corr_mlb = corr_mlb.groupby('Metropolitan area')['ratio','Population_2016'].mean()"
   ]
  },
  {
   "cell_type": "code",
   "execution_count": null,
   "metadata": {},
   "outputs": [],
   "source": [
    "# gerando listas\n",
    "population_by_region = corr_mlb['Population_2016'].tolist()\n",
    "ratio_by_region = corr_mlb['ratio'].tolist()"
   ]
  },
  {
   "cell_type": "code",
   "execution_count": null,
   "metadata": {},
   "outputs": [
    {
     "data": {
      "text/plain": [
       "0.15027698302669307"
      ]
     },
     "execution_count": 532,
     "metadata": {},
     "output_type": "execute_result"
    }
   ],
   "source": [
    "# tirando a correlação entre as duas listas\n",
    "stats.pearsonr(population_by_region, ratio_by_region)[0]"
   ]
  },
  {
   "cell_type": "markdown",
   "metadata": {},
   "source": [
    "#### Correlação entre Razão Performance de MLB e População"
   ]
  },
  {
   "cell_type": "code",
   "execution_count": null,
   "metadata": {},
   "outputs": [],
   "source": [
    "# unindo os dois dataframes\n",
    "corr_nfl = pd.merge(nfl_df, cities, how='left', on=['Metropolitan area'])"
   ]
  },
  {
   "cell_type": "code",
   "execution_count": null,
   "metadata": {},
   "outputs": [
    {
     "name": "stderr",
     "output_type": "stream",
     "text": [
      "C:\\Users\\Usuario\\AppData\\Local\\Temp\\ipykernel_11908\\2135599210.py:2: FutureWarning: Indexing with multiple keys (implicitly converted to a tuple of keys) will be deprecated, use a list instead.\n",
      "  corr_nfl = corr_nfl.groupby('Metropolitan area')['ratio','Population_2016'].mean()\n"
     ]
    }
   ],
   "source": [
    "# tirando a média da razão de performance no caso de dois times pertencerem a mesma região\n",
    "corr_nfl = corr_nfl.groupby('Metropolitan area')['ratio','Population_2016'].mean()"
   ]
  },
  {
   "cell_type": "code",
   "execution_count": null,
   "metadata": {},
   "outputs": [],
   "source": [
    "# gerando listas\n",
    "population_by_region = corr_nfl['Population_2016'].tolist()\n",
    "ratio_by_region = corr_nfl['ratio'].tolist()"
   ]
  },
  {
   "cell_type": "code",
   "execution_count": null,
   "metadata": {},
   "outputs": [
    {
     "data": {
      "text/plain": [
       "0.004922112149349409"
      ]
     },
     "execution_count": 536,
     "metadata": {},
     "output_type": "execute_result"
    }
   ],
   "source": [
    "# tirando a correlação entre as duas listas\n",
    "stats.pearsonr(population_by_region, ratio_by_region)[0]"
   ]
  },
  {
   "cell_type": "markdown",
   "metadata": {},
   "source": [
    "#### Matriz de correlação entre cada liga"
   ]
  },
  {
   "cell_type": "code",
   "execution_count": null,
   "metadata": {},
   "outputs": [],
   "source": [
    "# dropando a coluna população, pois não será mais usada\n",
    "corr_nhl.drop(columns=['Population_2016'], inplace=True)\n",
    "corr_nba.drop(columns=['Population_2016'], inplace=True)\n",
    "corr_mlb.drop(columns=['Population_2016'], inplace=True)\n",
    "corr_nfl.drop(columns=['Population_2016'], inplace=True)"
   ]
  },
  {
   "cell_type": "code",
   "execution_count": null,
   "metadata": {},
   "outputs": [],
   "source": [
    "# renomeando colunas para não se perder depois\n",
    "corr_nhl.rename(columns={'ratio': 'ratio_nhl'}, inplace=True)\n",
    "corr_nba.rename(columns={'ratio': 'ratio_nba'}, inplace=True)\n",
    "corr_mlb.rename(columns={'ratio': 'ratio_mlb'}, inplace=True)\n",
    "corr_nfl.rename(columns={'ratio': 'ratio_nfl'}, inplace=True)"
   ]
  },
  {
   "cell_type": "code",
   "execution_count": null,
   "metadata": {},
   "outputs": [],
   "source": [
    "# criando todos dataframes dos pares de ligas com as colunas ratios para cada liga\n",
    "# usaremos o inner, porque se uma das ligas não tiver time em certa região, não faz sentido calcular a correlação entre elas\n",
    "nba_nfl = pd.merge(corr_nba, corr_nfl, how='inner', left_index=True, right_index=True)\n",
    "nba_nhl = pd.merge(corr_nba, corr_nhl, how='inner', left_index=True, right_index=True)\n",
    "nba_mlb = pd.merge(corr_nba, corr_mlb, how='inner', left_index=True, right_index=True)\n",
    "nfl_nhl = pd.merge(corr_nfl, corr_nhl, how='inner', left_index=True, right_index=True)\n",
    "nfl_mlb = pd.merge(corr_nfl, corr_mlb, how='inner', left_index=True, right_index=True)\n",
    "nhl_mlb = pd.merge(corr_nhl, corr_mlb, how='inner', left_index=True, right_index=True)"
   ]
  },
  {
   "cell_type": "code",
   "execution_count": null,
   "metadata": {},
   "outputs": [],
   "source": [
    "# lista dos esportes\n",
    "sports = ['NFL', 'NBA', 'NHL', 'MLB']"
   ]
  },
  {
   "cell_type": "code",
   "execution_count": null,
   "metadata": {},
   "outputs": [],
   "source": [
    "# criando um dataframe de valores nan\n",
    "corr_matrix = pd.DataFrame({k:np.nan for k in sports}, index=sports)"
   ]
  },
  {
   "cell_type": "code",
   "execution_count": null,
   "metadata": {},
   "outputs": [],
   "source": [
    "for i in range(len(corr_matrix)):\n",
    "    for j in range(len(corr_matrix)):\n",
    "        if i==j:\n",
    "            pass\n",
    "        elif ((corr_matrix.index[i]=='NFL' and corr_matrix.columns[j]=='NBA')or(corr_matrix.index[i]=='NBA' and corr_matrix.columns[j]=='NFL')):\n",
    "            corr_matrix.iloc[i][j] = stats.pearsonr(nba_nfl['ratio_nba'],nba_nfl['ratio_nfl'])[0]\n",
    "            corr_matrix.iloc[j][i] = stats.pearsonr(nba_nfl['ratio_nba'],nba_nfl['ratio_nfl'])[0]\n",
    "        elif ((corr_matrix.index[i]=='NFL' and corr_matrix.columns[j]=='NHL')or(corr_matrix.index[i]=='NHL' and corr_matrix.columns[j]=='NFL')):\n",
    "            corr_matrix.iloc[i][j] = stats.pearsonr(nfl_nhl['ratio_nhl'],nfl_nhl['ratio_nfl'])[0]\n",
    "            corr_matrix.iloc[j][i] = stats.pearsonr(nfl_nhl['ratio_nhl'],nfl_nhl['ratio_nfl'])[0]\n",
    "        elif ((corr_matrix.index[i]=='NFL' and corr_matrix.columns[j]=='MLB')or(corr_matrix.index[i]=='MLB' and corr_matrix.columns[j]=='NFL')):\n",
    "            corr_matrix.iloc[i][j] = stats.pearsonr(nfl_mlb['ratio_mlb'],nfl_mlb['ratio_nfl'])[0]\n",
    "            corr_matrix.iloc[j][i] = stats.pearsonr(nfl_mlb['ratio_mlb'],nfl_mlb['ratio_nfl'])[0]\n",
    "        elif ((corr_matrix.index[i]=='NBA' and corr_matrix.columns[j]=='NHL')or(corr_matrix.index[i]=='NHL' and corr_matrix.columns[j]=='NBA')):\n",
    "            corr_matrix.iloc[i][j] = stats.pearsonr(nba_nhl['ratio_nba'],nba_nhl['ratio_nhl'])[0]\n",
    "            corr_matrix.iloc[j][i] = stats.pearsonr(nba_nhl['ratio_nba'],nba_nhl['ratio_nhl'])[0]\n",
    "        elif ((corr_matrix.index[i]=='NBA' and corr_matrix.columns[j]=='MLB')or(corr_matrix.index[i]=='MLB' and corr_matrix.columns[j]=='NBA')):\n",
    "            corr_matrix.iloc[i][j] = stats.pearsonr(nba_mlb['ratio_nba'],nba_mlb['ratio_mlb'])[0]\n",
    "            corr_matrix.iloc[j][i] = stats.pearsonr(nba_mlb['ratio_nba'],nba_mlb['ratio_mlb'])[0]\n",
    "        elif ((corr_matrix.index[i]=='NHL' and corr_matrix.columns[j]=='MLB')or(corr_matrix.index[i]=='MLB' and corr_matrix.columns[j]=='NHL')):\n",
    "            corr_matrix.iloc[i][j] = stats.pearsonr(nhl_mlb['ratio_nhl'],nhl_mlb['ratio_mlb'])[0]\n",
    "            corr_matrix.iloc[j][i] = stats.pearsonr(nhl_mlb['ratio_nhl'],nhl_mlb['ratio_mlb'])[0]"
   ]
  },
  {
   "cell_type": "code",
   "execution_count": null,
   "metadata": {},
   "outputs": [
    {
     "data": {
      "text/plain": [
       "(0.7604476326183347, 0.0015917528220082923)"
      ]
     },
     "execution_count": 569,
     "metadata": {},
     "output_type": "execute_result"
    }
   ],
   "source": [
    "stats.pearsonr(nba_nhl['ratio_nba'],nba_nhl['ratio_nhl'])"
   ]
  },
  {
   "cell_type": "code",
   "execution_count": null,
   "metadata": {},
   "outputs": [],
   "source": [
    "corr_matrix = round(corr_matrix, 3)"
   ]
  },
  {
   "cell_type": "code",
   "execution_count": null,
   "metadata": {},
   "outputs": [
    {
     "data": {
      "text/html": [
       "<div>\n",
       "<style scoped>\n",
       "    .dataframe tbody tr th:only-of-type {\n",
       "        vertical-align: middle;\n",
       "    }\n",
       "\n",
       "    .dataframe tbody tr th {\n",
       "        vertical-align: top;\n",
       "    }\n",
       "\n",
       "    .dataframe thead th {\n",
       "        text-align: right;\n",
       "    }\n",
       "</style>\n",
       "<table border=\"1\" class=\"dataframe\">\n",
       "  <thead>\n",
       "    <tr style=\"text-align: right;\">\n",
       "      <th></th>\n",
       "      <th>NFL</th>\n",
       "      <th>NBA</th>\n",
       "      <th>NHL</th>\n",
       "      <th>MLB</th>\n",
       "    </tr>\n",
       "  </thead>\n",
       "  <tbody>\n",
       "    <tr>\n",
       "      <th>NFL</th>\n",
       "      <td>NaN</td>\n",
       "      <td>0.237</td>\n",
       "      <td>0.304</td>\n",
       "      <td>-0.050</td>\n",
       "    </tr>\n",
       "    <tr>\n",
       "      <th>NBA</th>\n",
       "      <td>0.237</td>\n",
       "      <td>NaN</td>\n",
       "      <td>0.760</td>\n",
       "      <td>0.325</td>\n",
       "    </tr>\n",
       "    <tr>\n",
       "      <th>NHL</th>\n",
       "      <td>0.304</td>\n",
       "      <td>0.760</td>\n",
       "      <td>NaN</td>\n",
       "      <td>0.432</td>\n",
       "    </tr>\n",
       "    <tr>\n",
       "      <th>MLB</th>\n",
       "      <td>-0.050</td>\n",
       "      <td>0.325</td>\n",
       "      <td>0.432</td>\n",
       "      <td>NaN</td>\n",
       "    </tr>\n",
       "  </tbody>\n",
       "</table>\n",
       "</div>"
      ],
      "text/plain": [
       "       NFL    NBA    NHL    MLB\n",
       "NFL    NaN  0.237  0.304 -0.050\n",
       "NBA  0.237    NaN  0.760  0.325\n",
       "NHL  0.304  0.760    NaN  0.432\n",
       "MLB -0.050  0.325  0.432    NaN"
      ]
     },
     "execution_count": 642,
     "metadata": {},
     "output_type": "execute_result"
    }
   ],
   "source": [
    "corr_matrix"
   ]
  },
  {
   "cell_type": "code",
   "execution_count": null,
   "metadata": {},
   "outputs": [
    {
     "data": {
      "text/plain": [
       "'\\\\begin{tabular}{lrrrr}\\n & NFL & NBA & NHL & MLB \\\\\\\\\\nNFL & nan & 0.237000 & 0.304000 & -0.050000 \\\\\\\\\\nNBA & 0.237000 & nan & 0.760000 & 0.325000 \\\\\\\\\\nNHL & 0.304000 & 0.760000 & nan & 0.432000 \\\\\\\\\\nMLB & -0.050000 & 0.325000 & 0.432000 & nan \\\\\\\\\\n\\\\end{tabular}\\n'"
      ]
     },
     "execution_count": 643,
     "metadata": {},
     "output_type": "execute_result"
    }
   ],
   "source": [
    "corr_matrix.style.to_latex()"
   ]
  },
  {
   "cell_type": "code",
   "execution_count": null,
   "metadata": {},
   "outputs": [],
   "source": [
    "corr_matrix.to_csv(\"../output/tables/corr_matrix.csv\")"
   ]
  }
 ],
 "metadata": {
  "interpreter": {
   "hash": "33541a670e8887513ebdf0f19cec6625b51694c5ef6b1c7e83282c54d5cd54e5"
  },
  "kernelspec": {
   "display_name": "Python 3 (ipykernel)",
   "language": "python",
   "name": "python3"
  },
  "language_info": {
   "codemirror_mode": {
    "name": "ipython",
    "version": 3
   },
   "file_extension": ".py",
   "mimetype": "text/x-python",
   "name": "python",
   "nbconvert_exporter": "python",
   "pygments_lexer": "ipython3",
   "version": "3.10.2"
  }
 },
 "nbformat": 4,
 "nbformat_minor": 4
}
